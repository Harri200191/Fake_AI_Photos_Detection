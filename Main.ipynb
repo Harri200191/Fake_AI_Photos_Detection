{
 "cells": [
  {
   "cell_type": "code",
   "execution_count": 4,
   "metadata": {},
   "outputs": [],
   "source": [
    "import tensorflow as tf\n",
    "import matplotlib.pyplot as plt\n",
    "import seaborn as sns\n",
    "import numpy as np\n",
    "import pandas as pd\n",
    "import lightgbm as lgbm\n",
    "from lightgbm import LGBMClassifier\n",
    "\n",
    "import sklearn.tree as tree\n",
    "from sklearn.tree import DecisionTreeClassifier\n",
    "from sklearn import preprocessing\n",
    "from sklearn.model_selection import train_test_split\n",
    "from sklearn import metrics\n",
    "from sklearn.ensemble import RandomForestClassifier\n",
    "from sklearn.metrics import accuracy_score\n",
    "\n",
    "from sklearn.model_selection import KFold\n",
    "from category_encoders import CountEncoder\n",
    "from sklearn.pipeline import Pipeline\n",
    "from sklearn.metrics import log_loss\n",
    "from sklearn.multioutput import MultiOutputClassifier\n",
    "\n",
    "import os\n",
    "import warnings\n",
    "warnings.filterwarnings('ignore')\n",
    "\n",
    "from xgboost import XGBClassifier\n",
    "from statsmodels.stats.outliers_influence import variance_inflation_factor\n",
    "from scipy import stats\n",
    "\n",
    "stats.chisqprob = lambda chisq, df: stats.chi2.sf(chisq, df)\n",
    "\n",
    "sns.set()"
   ]
  },
  {
   "cell_type": "code",
   "execution_count": 5,
   "metadata": {},
   "outputs": [],
   "source": [
    "data = pd.read_csv(\"train.csv\")"
   ]
  },
  {
   "cell_type": "code",
   "execution_count": 6,
   "metadata": {},
   "outputs": [
    {
     "data": {
      "text/html": [
       "<div>\n",
       "<style scoped>\n",
       "    .dataframe tbody tr th:only-of-type {\n",
       "        vertical-align: middle;\n",
       "    }\n",
       "\n",
       "    .dataframe tbody tr th {\n",
       "        vertical-align: top;\n",
       "    }\n",
       "\n",
       "    .dataframe thead th {\n",
       "        text-align: right;\n",
       "    }\n",
       "</style>\n",
       "<table border=\"1\" class=\"dataframe\">\n",
       "  <thead>\n",
       "    <tr style=\"text-align: right;\">\n",
       "      <th></th>\n",
       "      <th>labels</th>\n",
       "      <th>f_0</th>\n",
       "      <th>f_1</th>\n",
       "      <th>f_2</th>\n",
       "      <th>f_3</th>\n",
       "      <th>f_4</th>\n",
       "      <th>f_5</th>\n",
       "      <th>f_6</th>\n",
       "      <th>f_7</th>\n",
       "      <th>f_8</th>\n",
       "      <th>...</th>\n",
       "      <th>f_1190</th>\n",
       "      <th>f_1191</th>\n",
       "      <th>f_1192</th>\n",
       "      <th>f_1193</th>\n",
       "      <th>f_1194</th>\n",
       "      <th>f_1195</th>\n",
       "      <th>f_1196</th>\n",
       "      <th>f_1197</th>\n",
       "      <th>f_1198</th>\n",
       "      <th>f_1199</th>\n",
       "    </tr>\n",
       "  </thead>\n",
       "  <tbody>\n",
       "    <tr>\n",
       "      <th>0</th>\n",
       "      <td>0</td>\n",
       "      <td>-2.033875</td>\n",
       "      <td>0.978446</td>\n",
       "      <td>-0.142131</td>\n",
       "      <td>-0.177117</td>\n",
       "      <td>-1.470684</td>\n",
       "      <td>1.669562</td>\n",
       "      <td>-0.196530</td>\n",
       "      <td>-0.125239</td>\n",
       "      <td>-0.452284</td>\n",
       "      <td>...</td>\n",
       "      <td>-1.111266</td>\n",
       "      <td>0.716084</td>\n",
       "      <td>0.060039</td>\n",
       "      <td>0.301279</td>\n",
       "      <td>-1.174846</td>\n",
       "      <td>-1.076498</td>\n",
       "      <td>-0.069452</td>\n",
       "      <td>-0.604012</td>\n",
       "      <td>-2.179176</td>\n",
       "      <td>0.558003</td>\n",
       "    </tr>\n",
       "    <tr>\n",
       "      <th>1</th>\n",
       "      <td>1</td>\n",
       "      <td>-0.348835</td>\n",
       "      <td>0.294815</td>\n",
       "      <td>-0.557577</td>\n",
       "      <td>-2.020773</td>\n",
       "      <td>-1.234715</td>\n",
       "      <td>1.633930</td>\n",
       "      <td>-1.680658</td>\n",
       "      <td>-0.358146</td>\n",
       "      <td>0.166122</td>\n",
       "      <td>...</td>\n",
       "      <td>0.735240</td>\n",
       "      <td>0.829781</td>\n",
       "      <td>1.521941</td>\n",
       "      <td>1.347946</td>\n",
       "      <td>0.754505</td>\n",
       "      <td>1.330642</td>\n",
       "      <td>-0.754453</td>\n",
       "      <td>0.582956</td>\n",
       "      <td>0.252671</td>\n",
       "      <td>1.495870</td>\n",
       "    </tr>\n",
       "    <tr>\n",
       "      <th>2</th>\n",
       "      <td>1</td>\n",
       "      <td>0.113248</td>\n",
       "      <td>-0.607726</td>\n",
       "      <td>-0.947791</td>\n",
       "      <td>0.830851</td>\n",
       "      <td>0.998291</td>\n",
       "      <td>0.498321</td>\n",
       "      <td>-1.493958</td>\n",
       "      <td>0.789572</td>\n",
       "      <td>-1.311018</td>\n",
       "      <td>...</td>\n",
       "      <td>0.104698</td>\n",
       "      <td>0.616189</td>\n",
       "      <td>-1.035953</td>\n",
       "      <td>2.111387</td>\n",
       "      <td>-0.984415</td>\n",
       "      <td>1.148076</td>\n",
       "      <td>-1.433554</td>\n",
       "      <td>0.243372</td>\n",
       "      <td>0.170083</td>\n",
       "      <td>1.274795</td>\n",
       "    </tr>\n",
       "    <tr>\n",
       "      <th>3</th>\n",
       "      <td>0</td>\n",
       "      <td>1.223321</td>\n",
       "      <td>-0.479048</td>\n",
       "      <td>-1.925789</td>\n",
       "      <td>1.680377</td>\n",
       "      <td>0.021840</td>\n",
       "      <td>-1.453307</td>\n",
       "      <td>0.605559</td>\n",
       "      <td>-0.019024</td>\n",
       "      <td>1.065448</td>\n",
       "      <td>...</td>\n",
       "      <td>0.360237</td>\n",
       "      <td>-1.957863</td>\n",
       "      <td>-0.123384</td>\n",
       "      <td>1.505329</td>\n",
       "      <td>0.660290</td>\n",
       "      <td>-1.769443</td>\n",
       "      <td>-0.547756</td>\n",
       "      <td>-0.568122</td>\n",
       "      <td>0.244645</td>\n",
       "      <td>0.982116</td>\n",
       "    </tr>\n",
       "    <tr>\n",
       "      <th>4</th>\n",
       "      <td>0</td>\n",
       "      <td>0.160109</td>\n",
       "      <td>0.422684</td>\n",
       "      <td>-0.308029</td>\n",
       "      <td>0.227744</td>\n",
       "      <td>0.432854</td>\n",
       "      <td>0.608348</td>\n",
       "      <td>0.193832</td>\n",
       "      <td>1.035091</td>\n",
       "      <td>-0.538868</td>\n",
       "      <td>...</td>\n",
       "      <td>0.416629</td>\n",
       "      <td>1.441766</td>\n",
       "      <td>0.212572</td>\n",
       "      <td>-0.994721</td>\n",
       "      <td>1.143999</td>\n",
       "      <td>-2.166923</td>\n",
       "      <td>-1.199248</td>\n",
       "      <td>-1.028636</td>\n",
       "      <td>0.752791</td>\n",
       "      <td>0.317169</td>\n",
       "    </tr>\n",
       "  </tbody>\n",
       "</table>\n",
       "<p>5 rows × 1201 columns</p>\n",
       "</div>"
      ],
      "text/plain": [
       "   labels       f_0       f_1       f_2       f_3       f_4       f_5   \n",
       "0       0 -2.033875  0.978446 -0.142131 -0.177117 -1.470684  1.669562  \\\n",
       "1       1 -0.348835  0.294815 -0.557577 -2.020773 -1.234715  1.633930   \n",
       "2       1  0.113248 -0.607726 -0.947791  0.830851  0.998291  0.498321   \n",
       "3       0  1.223321 -0.479048 -1.925789  1.680377  0.021840 -1.453307   \n",
       "4       0  0.160109  0.422684 -0.308029  0.227744  0.432854  0.608348   \n",
       "\n",
       "        f_6       f_7       f_8  ...    f_1190    f_1191    f_1192    f_1193   \n",
       "0 -0.196530 -0.125239 -0.452284  ... -1.111266  0.716084  0.060039  0.301279  \\\n",
       "1 -1.680658 -0.358146  0.166122  ...  0.735240  0.829781  1.521941  1.347946   \n",
       "2 -1.493958  0.789572 -1.311018  ...  0.104698  0.616189 -1.035953  2.111387   \n",
       "3  0.605559 -0.019024  1.065448  ...  0.360237 -1.957863 -0.123384  1.505329   \n",
       "4  0.193832  1.035091 -0.538868  ...  0.416629  1.441766  0.212572 -0.994721   \n",
       "\n",
       "     f_1194    f_1195    f_1196    f_1197    f_1198    f_1199  \n",
       "0 -1.174846 -1.076498 -0.069452 -0.604012 -2.179176  0.558003  \n",
       "1  0.754505  1.330642 -0.754453  0.582956  0.252671  1.495870  \n",
       "2 -0.984415  1.148076 -1.433554  0.243372  0.170083  1.274795  \n",
       "3  0.660290 -1.769443 -0.547756 -0.568122  0.244645  0.982116  \n",
       "4  1.143999 -2.166923 -1.199248 -1.028636  0.752791  0.317169  \n",
       "\n",
       "[5 rows x 1201 columns]"
      ]
     },
     "execution_count": 6,
     "metadata": {},
     "output_type": "execute_result"
    }
   ],
   "source": [
    "data.head()"
   ]
  },
  {
   "cell_type": "code",
   "execution_count": 7,
   "metadata": {},
   "outputs": [
    {
     "data": {
      "text/plain": [
       "labels    0\n",
       "f_0       0\n",
       "f_1       0\n",
       "f_2       0\n",
       "f_3       0\n",
       "         ..\n",
       "f_1195    0\n",
       "f_1196    0\n",
       "f_1197    0\n",
       "f_1198    0\n",
       "f_1199    0\n",
       "Length: 1201, dtype: int64"
      ]
     },
     "execution_count": 7,
     "metadata": {},
     "output_type": "execute_result"
    }
   ],
   "source": [
    "data.isnull().sum()"
   ]
  },
  {
   "cell_type": "code",
   "execution_count": 8,
   "metadata": {},
   "outputs": [
    {
     "data": {
      "text/plain": [
       "(5250, 1201)"
      ]
     },
     "execution_count": 8,
     "metadata": {},
     "output_type": "execute_result"
    }
   ],
   "source": [
    "data.shape"
   ]
  },
  {
   "cell_type": "code",
   "execution_count": 9,
   "metadata": {},
   "outputs": [],
   "source": [
    "dep = data[\"labels\"]\n",
    "indep = data.drop(columns=[\"labels\"])"
   ]
  },
  {
   "cell_type": "code",
   "execution_count": 10,
   "metadata": {},
   "outputs": [
    {
     "name": "stdout",
     "output_type": "stream",
     "text": [
      "(4200, 1200)\n",
      "(4200,)\n",
      "(1050, 1200)\n",
      "(1050,)\n"
     ]
    }
   ],
   "source": [
    "x_train, x_test, y_train, y_test = train_test_split(indep, dep, test_size=0.2, random_state= 42)\n",
    "\n",
    "print(x_train.shape)\n",
    "print(y_train.shape)\n",
    "print(x_test.shape)\n",
    "print(y_test.shape)"
   ]
  },
  {
   "cell_type": "code",
   "execution_count": 11,
   "metadata": {},
   "outputs": [
    {
     "data": {
      "text/html": [
       "<div>\n",
       "<style scoped>\n",
       "    .dataframe tbody tr th:only-of-type {\n",
       "        vertical-align: middle;\n",
       "    }\n",
       "\n",
       "    .dataframe tbody tr th {\n",
       "        vertical-align: top;\n",
       "    }\n",
       "\n",
       "    .dataframe thead th {\n",
       "        text-align: right;\n",
       "    }\n",
       "</style>\n",
       "<table border=\"1\" class=\"dataframe\">\n",
       "  <thead>\n",
       "    <tr style=\"text-align: right;\">\n",
       "      <th></th>\n",
       "      <th>id</th>\n",
       "      <th>f_0</th>\n",
       "      <th>f_1</th>\n",
       "      <th>f_2</th>\n",
       "      <th>f_3</th>\n",
       "      <th>f_4</th>\n",
       "      <th>f_5</th>\n",
       "      <th>f_6</th>\n",
       "      <th>f_7</th>\n",
       "      <th>f_8</th>\n",
       "      <th>...</th>\n",
       "      <th>f_1190</th>\n",
       "      <th>f_1191</th>\n",
       "      <th>f_1192</th>\n",
       "      <th>f_1193</th>\n",
       "      <th>f_1194</th>\n",
       "      <th>f_1195</th>\n",
       "      <th>f_1196</th>\n",
       "      <th>f_1197</th>\n",
       "      <th>f_1198</th>\n",
       "      <th>f_1199</th>\n",
       "    </tr>\n",
       "  </thead>\n",
       "  <tbody>\n",
       "    <tr>\n",
       "      <th>0</th>\n",
       "      <td>1</td>\n",
       "      <td>-3.388242</td>\n",
       "      <td>0.868285</td>\n",
       "      <td>-0.427619</td>\n",
       "      <td>-0.678964</td>\n",
       "      <td>-1.625735</td>\n",
       "      <td>0.262761</td>\n",
       "      <td>1.243040</td>\n",
       "      <td>1.537751</td>\n",
       "      <td>-0.352028</td>\n",
       "      <td>...</td>\n",
       "      <td>-0.776403</td>\n",
       "      <td>-0.662884</td>\n",
       "      <td>-0.257091</td>\n",
       "      <td>-1.168413</td>\n",
       "      <td>0.223260</td>\n",
       "      <td>-0.482520</td>\n",
       "      <td>-0.085453</td>\n",
       "      <td>-0.382265</td>\n",
       "      <td>-0.539349</td>\n",
       "      <td>-1.682404</td>\n",
       "    </tr>\n",
       "    <tr>\n",
       "      <th>1</th>\n",
       "      <td>2</td>\n",
       "      <td>-0.496920</td>\n",
       "      <td>0.952381</td>\n",
       "      <td>0.989040</td>\n",
       "      <td>0.451422</td>\n",
       "      <td>0.513516</td>\n",
       "      <td>-0.099658</td>\n",
       "      <td>-1.124326</td>\n",
       "      <td>0.729430</td>\n",
       "      <td>-0.216224</td>\n",
       "      <td>...</td>\n",
       "      <td>0.379635</td>\n",
       "      <td>-1.760084</td>\n",
       "      <td>1.125450</td>\n",
       "      <td>-0.328047</td>\n",
       "      <td>-0.880305</td>\n",
       "      <td>-1.257607</td>\n",
       "      <td>0.964312</td>\n",
       "      <td>2.021104</td>\n",
       "      <td>0.655021</td>\n",
       "      <td>-0.423029</td>\n",
       "    </tr>\n",
       "    <tr>\n",
       "      <th>2</th>\n",
       "      <td>3</td>\n",
       "      <td>1.128369</td>\n",
       "      <td>-0.537951</td>\n",
       "      <td>2.544358</td>\n",
       "      <td>1.165254</td>\n",
       "      <td>-1.904994</td>\n",
       "      <td>0.776961</td>\n",
       "      <td>-0.495768</td>\n",
       "      <td>0.060111</td>\n",
       "      <td>-1.418468</td>\n",
       "      <td>...</td>\n",
       "      <td>1.165254</td>\n",
       "      <td>-1.373589</td>\n",
       "      <td>-0.483701</td>\n",
       "      <td>-0.964782</td>\n",
       "      <td>-0.869555</td>\n",
       "      <td>0.066040</td>\n",
       "      <td>-0.444567</td>\n",
       "      <td>-0.531935</td>\n",
       "      <td>-0.878660</td>\n",
       "      <td>1.099488</td>\n",
       "    </tr>\n",
       "    <tr>\n",
       "      <th>3</th>\n",
       "      <td>4</td>\n",
       "      <td>0.051253</td>\n",
       "      <td>1.746814</td>\n",
       "      <td>0.681177</td>\n",
       "      <td>1.844524</td>\n",
       "      <td>-0.327977</td>\n",
       "      <td>1.226839</td>\n",
       "      <td>-0.085519</td>\n",
       "      <td>0.379008</td>\n",
       "      <td>-1.003667</td>\n",
       "      <td>...</td>\n",
       "      <td>-0.442288</td>\n",
       "      <td>-2.794472</td>\n",
       "      <td>-0.763468</td>\n",
       "      <td>-0.789832</td>\n",
       "      <td>-0.113209</td>\n",
       "      <td>-2.703150</td>\n",
       "      <td>-2.058728</td>\n",
       "      <td>1.070627</td>\n",
       "      <td>-0.458045</td>\n",
       "      <td>-0.435825</td>\n",
       "    </tr>\n",
       "    <tr>\n",
       "      <th>4</th>\n",
       "      <td>5</td>\n",
       "      <td>1.423209</td>\n",
       "      <td>-0.983594</td>\n",
       "      <td>-1.694170</td>\n",
       "      <td>1.197507</td>\n",
       "      <td>1.044211</td>\n",
       "      <td>0.518777</td>\n",
       "      <td>-0.298612</td>\n",
       "      <td>-0.365174</td>\n",
       "      <td>0.738447</td>\n",
       "      <td>...</td>\n",
       "      <td>-2.624450</td>\n",
       "      <td>-3.200223</td>\n",
       "      <td>0.711422</td>\n",
       "      <td>-0.190394</td>\n",
       "      <td>0.337224</td>\n",
       "      <td>-1.656639</td>\n",
       "      <td>0.707360</td>\n",
       "      <td>-0.562290</td>\n",
       "      <td>1.471181</td>\n",
       "      <td>-0.192000</td>\n",
       "    </tr>\n",
       "  </tbody>\n",
       "</table>\n",
       "<p>5 rows × 1201 columns</p>\n",
       "</div>"
      ],
      "text/plain": [
       "   id       f_0       f_1       f_2       f_3       f_4       f_5       f_6   \n",
       "0   1 -3.388242  0.868285 -0.427619 -0.678964 -1.625735  0.262761  1.243040  \\\n",
       "1   2 -0.496920  0.952381  0.989040  0.451422  0.513516 -0.099658 -1.124326   \n",
       "2   3  1.128369 -0.537951  2.544358  1.165254 -1.904994  0.776961 -0.495768   \n",
       "3   4  0.051253  1.746814  0.681177  1.844524 -0.327977  1.226839 -0.085519   \n",
       "4   5  1.423209 -0.983594 -1.694170  1.197507  1.044211  0.518777 -0.298612   \n",
       "\n",
       "        f_7       f_8  ...    f_1190    f_1191    f_1192    f_1193    f_1194   \n",
       "0  1.537751 -0.352028  ... -0.776403 -0.662884 -0.257091 -1.168413  0.223260  \\\n",
       "1  0.729430 -0.216224  ...  0.379635 -1.760084  1.125450 -0.328047 -0.880305   \n",
       "2  0.060111 -1.418468  ...  1.165254 -1.373589 -0.483701 -0.964782 -0.869555   \n",
       "3  0.379008 -1.003667  ... -0.442288 -2.794472 -0.763468 -0.789832 -0.113209   \n",
       "4 -0.365174  0.738447  ... -2.624450 -3.200223  0.711422 -0.190394  0.337224   \n",
       "\n",
       "     f_1195    f_1196    f_1197    f_1198    f_1199  \n",
       "0 -0.482520 -0.085453 -0.382265 -0.539349 -1.682404  \n",
       "1 -1.257607  0.964312  2.021104  0.655021 -0.423029  \n",
       "2  0.066040 -0.444567 -0.531935 -0.878660  1.099488  \n",
       "3 -2.703150 -2.058728  1.070627 -0.458045 -0.435825  \n",
       "4 -1.656639  0.707360 -0.562290  1.471181 -0.192000  \n",
       "\n",
       "[5 rows x 1201 columns]"
      ]
     },
     "execution_count": 11,
     "metadata": {},
     "output_type": "execute_result"
    }
   ],
   "source": [
    "test_data = pd.read_csv(\"test.csv\")\n",
    "test_data.head()"
   ]
  },
  {
   "cell_type": "code",
   "execution_count": 12,
   "metadata": {},
   "outputs": [
    {
     "data": {
      "text/html": [
       "<div>\n",
       "<style scoped>\n",
       "    .dataframe tbody tr th:only-of-type {\n",
       "        vertical-align: middle;\n",
       "    }\n",
       "\n",
       "    .dataframe tbody tr th {\n",
       "        vertical-align: top;\n",
       "    }\n",
       "\n",
       "    .dataframe thead th {\n",
       "        text-align: right;\n",
       "    }\n",
       "</style>\n",
       "<table border=\"1\" class=\"dataframe\">\n",
       "  <thead>\n",
       "    <tr style=\"text-align: right;\">\n",
       "      <th></th>\n",
       "      <th>f_0</th>\n",
       "      <th>f_1</th>\n",
       "      <th>f_2</th>\n",
       "      <th>f_3</th>\n",
       "      <th>f_4</th>\n",
       "      <th>f_5</th>\n",
       "      <th>f_6</th>\n",
       "      <th>f_7</th>\n",
       "      <th>f_8</th>\n",
       "      <th>f_9</th>\n",
       "      <th>...</th>\n",
       "      <th>f_1190</th>\n",
       "      <th>f_1191</th>\n",
       "      <th>f_1192</th>\n",
       "      <th>f_1193</th>\n",
       "      <th>f_1194</th>\n",
       "      <th>f_1195</th>\n",
       "      <th>f_1196</th>\n",
       "      <th>f_1197</th>\n",
       "      <th>f_1198</th>\n",
       "      <th>f_1199</th>\n",
       "    </tr>\n",
       "  </thead>\n",
       "  <tbody>\n",
       "    <tr>\n",
       "      <th>0</th>\n",
       "      <td>-3.388242</td>\n",
       "      <td>0.868285</td>\n",
       "      <td>-0.427619</td>\n",
       "      <td>-0.678964</td>\n",
       "      <td>-1.625735</td>\n",
       "      <td>0.262761</td>\n",
       "      <td>1.243040</td>\n",
       "      <td>1.537751</td>\n",
       "      <td>-0.352028</td>\n",
       "      <td>-0.114245</td>\n",
       "      <td>...</td>\n",
       "      <td>-0.776403</td>\n",
       "      <td>-0.662884</td>\n",
       "      <td>-0.257091</td>\n",
       "      <td>-1.168413</td>\n",
       "      <td>0.223260</td>\n",
       "      <td>-0.482520</td>\n",
       "      <td>-0.085453</td>\n",
       "      <td>-0.382265</td>\n",
       "      <td>-0.539349</td>\n",
       "      <td>-1.682404</td>\n",
       "    </tr>\n",
       "    <tr>\n",
       "      <th>1</th>\n",
       "      <td>-0.496920</td>\n",
       "      <td>0.952381</td>\n",
       "      <td>0.989040</td>\n",
       "      <td>0.451422</td>\n",
       "      <td>0.513516</td>\n",
       "      <td>-0.099658</td>\n",
       "      <td>-1.124326</td>\n",
       "      <td>0.729430</td>\n",
       "      <td>-0.216224</td>\n",
       "      <td>-0.000680</td>\n",
       "      <td>...</td>\n",
       "      <td>0.379635</td>\n",
       "      <td>-1.760084</td>\n",
       "      <td>1.125450</td>\n",
       "      <td>-0.328047</td>\n",
       "      <td>-0.880305</td>\n",
       "      <td>-1.257607</td>\n",
       "      <td>0.964312</td>\n",
       "      <td>2.021104</td>\n",
       "      <td>0.655021</td>\n",
       "      <td>-0.423029</td>\n",
       "    </tr>\n",
       "    <tr>\n",
       "      <th>2</th>\n",
       "      <td>1.128369</td>\n",
       "      <td>-0.537951</td>\n",
       "      <td>2.544358</td>\n",
       "      <td>1.165254</td>\n",
       "      <td>-1.904994</td>\n",
       "      <td>0.776961</td>\n",
       "      <td>-0.495768</td>\n",
       "      <td>0.060111</td>\n",
       "      <td>-1.418468</td>\n",
       "      <td>-0.086128</td>\n",
       "      <td>...</td>\n",
       "      <td>1.165254</td>\n",
       "      <td>-1.373589</td>\n",
       "      <td>-0.483701</td>\n",
       "      <td>-0.964782</td>\n",
       "      <td>-0.869555</td>\n",
       "      <td>0.066040</td>\n",
       "      <td>-0.444567</td>\n",
       "      <td>-0.531935</td>\n",
       "      <td>-0.878660</td>\n",
       "      <td>1.099488</td>\n",
       "    </tr>\n",
       "    <tr>\n",
       "      <th>3</th>\n",
       "      <td>0.051253</td>\n",
       "      <td>1.746814</td>\n",
       "      <td>0.681177</td>\n",
       "      <td>1.844524</td>\n",
       "      <td>-0.327977</td>\n",
       "      <td>1.226839</td>\n",
       "      <td>-0.085519</td>\n",
       "      <td>0.379008</td>\n",
       "      <td>-1.003667</td>\n",
       "      <td>0.570237</td>\n",
       "      <td>...</td>\n",
       "      <td>-0.442288</td>\n",
       "      <td>-2.794472</td>\n",
       "      <td>-0.763468</td>\n",
       "      <td>-0.789832</td>\n",
       "      <td>-0.113209</td>\n",
       "      <td>-2.703150</td>\n",
       "      <td>-2.058728</td>\n",
       "      <td>1.070627</td>\n",
       "      <td>-0.458045</td>\n",
       "      <td>-0.435825</td>\n",
       "    </tr>\n",
       "    <tr>\n",
       "      <th>4</th>\n",
       "      <td>1.423209</td>\n",
       "      <td>-0.983594</td>\n",
       "      <td>-1.694170</td>\n",
       "      <td>1.197507</td>\n",
       "      <td>1.044211</td>\n",
       "      <td>0.518777</td>\n",
       "      <td>-0.298612</td>\n",
       "      <td>-0.365174</td>\n",
       "      <td>0.738447</td>\n",
       "      <td>0.054435</td>\n",
       "      <td>...</td>\n",
       "      <td>-2.624450</td>\n",
       "      <td>-3.200223</td>\n",
       "      <td>0.711422</td>\n",
       "      <td>-0.190394</td>\n",
       "      <td>0.337224</td>\n",
       "      <td>-1.656639</td>\n",
       "      <td>0.707360</td>\n",
       "      <td>-0.562290</td>\n",
       "      <td>1.471181</td>\n",
       "      <td>-0.192000</td>\n",
       "    </tr>\n",
       "    <tr>\n",
       "      <th>...</th>\n",
       "      <td>...</td>\n",
       "      <td>...</td>\n",
       "      <td>...</td>\n",
       "      <td>...</td>\n",
       "      <td>...</td>\n",
       "      <td>...</td>\n",
       "      <td>...</td>\n",
       "      <td>...</td>\n",
       "      <td>...</td>\n",
       "      <td>...</td>\n",
       "      <td>...</td>\n",
       "      <td>...</td>\n",
       "      <td>...</td>\n",
       "      <td>...</td>\n",
       "      <td>...</td>\n",
       "      <td>...</td>\n",
       "      <td>...</td>\n",
       "      <td>...</td>\n",
       "      <td>...</td>\n",
       "      <td>...</td>\n",
       "      <td>...</td>\n",
       "    </tr>\n",
       "    <tr>\n",
       "      <th>2245</th>\n",
       "      <td>0.889888</td>\n",
       "      <td>-0.319077</td>\n",
       "      <td>0.849589</td>\n",
       "      <td>0.822723</td>\n",
       "      <td>0.876455</td>\n",
       "      <td>0.325704</td>\n",
       "      <td>0.876455</td>\n",
       "      <td>-0.910127</td>\n",
       "      <td>0.889888</td>\n",
       "      <td>0.204808</td>\n",
       "      <td>...</td>\n",
       "      <td>0.889888</td>\n",
       "      <td>-2.226556</td>\n",
       "      <td>-0.090717</td>\n",
       "      <td>-1.393713</td>\n",
       "      <td>-0.896694</td>\n",
       "      <td>-0.399675</td>\n",
       "      <td>-0.856395</td>\n",
       "      <td>0.876455</td>\n",
       "      <td>0.863022</td>\n",
       "      <td>-0.601169</td>\n",
       "    </tr>\n",
       "    <tr>\n",
       "      <th>2246</th>\n",
       "      <td>1.005737</td>\n",
       "      <td>-0.064755</td>\n",
       "      <td>1.163494</td>\n",
       "      <td>1.163494</td>\n",
       "      <td>1.163494</td>\n",
       "      <td>0.724028</td>\n",
       "      <td>0.712760</td>\n",
       "      <td>-0.785929</td>\n",
       "      <td>-1.225394</td>\n",
       "      <td>1.107152</td>\n",
       "      <td>...</td>\n",
       "      <td>1.163494</td>\n",
       "      <td>-1.270468</td>\n",
       "      <td>-0.932417</td>\n",
       "      <td>-1.169053</td>\n",
       "      <td>-0.008414</td>\n",
       "      <td>-0.605636</td>\n",
       "      <td>-0.323927</td>\n",
       "      <td>1.163494</td>\n",
       "      <td>-1.315541</td>\n",
       "      <td>0.047928</td>\n",
       "    </tr>\n",
       "    <tr>\n",
       "      <th>2247</th>\n",
       "      <td>1.252086</td>\n",
       "      <td>1.223561</td>\n",
       "      <td>0.153859</td>\n",
       "      <td>-0.987156</td>\n",
       "      <td>0.239435</td>\n",
       "      <td>-0.003031</td>\n",
       "      <td>-1.158309</td>\n",
       "      <td>1.237823</td>\n",
       "      <td>-1.272410</td>\n",
       "      <td>0.767154</td>\n",
       "      <td>...</td>\n",
       "      <td>0.581740</td>\n",
       "      <td>-1.386512</td>\n",
       "      <td>0.809943</td>\n",
       "      <td>-1.243885</td>\n",
       "      <td>0.153859</td>\n",
       "      <td>-0.630589</td>\n",
       "      <td>1.594391</td>\n",
       "      <td>1.252086</td>\n",
       "      <td>-1.429300</td>\n",
       "      <td>1.408976</td>\n",
       "    </tr>\n",
       "    <tr>\n",
       "      <th>2248</th>\n",
       "      <td>1.042624</td>\n",
       "      <td>-0.129166</td>\n",
       "      <td>1.066538</td>\n",
       "      <td>1.030667</td>\n",
       "      <td>1.162195</td>\n",
       "      <td>0.707827</td>\n",
       "      <td>-1.396612</td>\n",
       "      <td>0.014319</td>\n",
       "      <td>-1.025944</td>\n",
       "      <td>0.982839</td>\n",
       "      <td>...</td>\n",
       "      <td>1.078495</td>\n",
       "      <td>-1.193343</td>\n",
       "      <td>0.086061</td>\n",
       "      <td>-0.081338</td>\n",
       "      <td>-0.978116</td>\n",
       "      <td>-0.368307</td>\n",
       "      <td>-0.129166</td>\n",
       "      <td>1.090452</td>\n",
       "      <td>-1.444440</td>\n",
       "      <td>0.468686</td>\n",
       "    </tr>\n",
       "    <tr>\n",
       "      <th>2249</th>\n",
       "      <td>-1.319572</td>\n",
       "      <td>-0.485173</td>\n",
       "      <td>-0.098500</td>\n",
       "      <td>2.323293</td>\n",
       "      <td>-0.139202</td>\n",
       "      <td>-0.953250</td>\n",
       "      <td>0.084661</td>\n",
       "      <td>-0.566577</td>\n",
       "      <td>1.427840</td>\n",
       "      <td>-0.403768</td>\n",
       "      <td>...</td>\n",
       "      <td>-0.505524</td>\n",
       "      <td>-0.220607</td>\n",
       "      <td>-0.871845</td>\n",
       "      <td>0.654495</td>\n",
       "      <td>0.430631</td>\n",
       "      <td>-0.444470</td>\n",
       "      <td>-0.118851</td>\n",
       "      <td>0.471334</td>\n",
       "      <td>-0.078149</td>\n",
       "      <td>-0.566577</td>\n",
       "    </tr>\n",
       "  </tbody>\n",
       "</table>\n",
       "<p>2250 rows × 1200 columns</p>\n",
       "</div>"
      ],
      "text/plain": [
       "           f_0       f_1       f_2       f_3       f_4       f_5       f_6   \n",
       "0    -3.388242  0.868285 -0.427619 -0.678964 -1.625735  0.262761  1.243040  \\\n",
       "1    -0.496920  0.952381  0.989040  0.451422  0.513516 -0.099658 -1.124326   \n",
       "2     1.128369 -0.537951  2.544358  1.165254 -1.904994  0.776961 -0.495768   \n",
       "3     0.051253  1.746814  0.681177  1.844524 -0.327977  1.226839 -0.085519   \n",
       "4     1.423209 -0.983594 -1.694170  1.197507  1.044211  0.518777 -0.298612   \n",
       "...        ...       ...       ...       ...       ...       ...       ...   \n",
       "2245  0.889888 -0.319077  0.849589  0.822723  0.876455  0.325704  0.876455   \n",
       "2246  1.005737 -0.064755  1.163494  1.163494  1.163494  0.724028  0.712760   \n",
       "2247  1.252086  1.223561  0.153859 -0.987156  0.239435 -0.003031 -1.158309   \n",
       "2248  1.042624 -0.129166  1.066538  1.030667  1.162195  0.707827 -1.396612   \n",
       "2249 -1.319572 -0.485173 -0.098500  2.323293 -0.139202 -0.953250  0.084661   \n",
       "\n",
       "           f_7       f_8       f_9  ...    f_1190    f_1191    f_1192   \n",
       "0     1.537751 -0.352028 -0.114245  ... -0.776403 -0.662884 -0.257091  \\\n",
       "1     0.729430 -0.216224 -0.000680  ...  0.379635 -1.760084  1.125450   \n",
       "2     0.060111 -1.418468 -0.086128  ...  1.165254 -1.373589 -0.483701   \n",
       "3     0.379008 -1.003667  0.570237  ... -0.442288 -2.794472 -0.763468   \n",
       "4    -0.365174  0.738447  0.054435  ... -2.624450 -3.200223  0.711422   \n",
       "...        ...       ...       ...  ...       ...       ...       ...   \n",
       "2245 -0.910127  0.889888  0.204808  ...  0.889888 -2.226556 -0.090717   \n",
       "2246 -0.785929 -1.225394  1.107152  ...  1.163494 -1.270468 -0.932417   \n",
       "2247  1.237823 -1.272410  0.767154  ...  0.581740 -1.386512  0.809943   \n",
       "2248  0.014319 -1.025944  0.982839  ...  1.078495 -1.193343  0.086061   \n",
       "2249 -0.566577  1.427840 -0.403768  ... -0.505524 -0.220607 -0.871845   \n",
       "\n",
       "        f_1193    f_1194    f_1195    f_1196    f_1197    f_1198    f_1199  \n",
       "0    -1.168413  0.223260 -0.482520 -0.085453 -0.382265 -0.539349 -1.682404  \n",
       "1    -0.328047 -0.880305 -1.257607  0.964312  2.021104  0.655021 -0.423029  \n",
       "2    -0.964782 -0.869555  0.066040 -0.444567 -0.531935 -0.878660  1.099488  \n",
       "3    -0.789832 -0.113209 -2.703150 -2.058728  1.070627 -0.458045 -0.435825  \n",
       "4    -0.190394  0.337224 -1.656639  0.707360 -0.562290  1.471181 -0.192000  \n",
       "...        ...       ...       ...       ...       ...       ...       ...  \n",
       "2245 -1.393713 -0.896694 -0.399675 -0.856395  0.876455  0.863022 -0.601169  \n",
       "2246 -1.169053 -0.008414 -0.605636 -0.323927  1.163494 -1.315541  0.047928  \n",
       "2247 -1.243885  0.153859 -0.630589  1.594391  1.252086 -1.429300  1.408976  \n",
       "2248 -0.081338 -0.978116 -0.368307 -0.129166  1.090452 -1.444440  0.468686  \n",
       "2249  0.654495  0.430631 -0.444470 -0.118851  0.471334 -0.078149 -0.566577  \n",
       "\n",
       "[2250 rows x 1200 columns]"
      ]
     },
     "execution_count": 12,
     "metadata": {},
     "output_type": "execute_result"
    }
   ],
   "source": [
    "test_indep = test_data.drop(columns = ['id'])\n",
    "test_indep"
   ]
  },
  {
   "cell_type": "code",
   "execution_count": 13,
   "metadata": {},
   "outputs": [
    {
     "data": {
      "text/html": [
       "<div>\n",
       "<style scoped>\n",
       "    .dataframe tbody tr th:only-of-type {\n",
       "        vertical-align: middle;\n",
       "    }\n",
       "\n",
       "    .dataframe tbody tr th {\n",
       "        vertical-align: top;\n",
       "    }\n",
       "\n",
       "    .dataframe thead th {\n",
       "        text-align: right;\n",
       "    }\n",
       "</style>\n",
       "<table border=\"1\" class=\"dataframe\">\n",
       "  <thead>\n",
       "    <tr style=\"text-align: right;\">\n",
       "      <th></th>\n",
       "      <th>id</th>\n",
       "    </tr>\n",
       "  </thead>\n",
       "  <tbody>\n",
       "    <tr>\n",
       "      <th>0</th>\n",
       "      <td>1</td>\n",
       "    </tr>\n",
       "    <tr>\n",
       "      <th>1</th>\n",
       "      <td>2</td>\n",
       "    </tr>\n",
       "    <tr>\n",
       "      <th>2</th>\n",
       "      <td>3</td>\n",
       "    </tr>\n",
       "    <tr>\n",
       "      <th>3</th>\n",
       "      <td>4</td>\n",
       "    </tr>\n",
       "    <tr>\n",
       "      <th>4</th>\n",
       "      <td>5</td>\n",
       "    </tr>\n",
       "    <tr>\n",
       "      <th>...</th>\n",
       "      <td>...</td>\n",
       "    </tr>\n",
       "    <tr>\n",
       "      <th>2245</th>\n",
       "      <td>2246</td>\n",
       "    </tr>\n",
       "    <tr>\n",
       "      <th>2246</th>\n",
       "      <td>2247</td>\n",
       "    </tr>\n",
       "    <tr>\n",
       "      <th>2247</th>\n",
       "      <td>2248</td>\n",
       "    </tr>\n",
       "    <tr>\n",
       "      <th>2248</th>\n",
       "      <td>2249</td>\n",
       "    </tr>\n",
       "    <tr>\n",
       "      <th>2249</th>\n",
       "      <td>2250</td>\n",
       "    </tr>\n",
       "  </tbody>\n",
       "</table>\n",
       "<p>2250 rows × 1 columns</p>\n",
       "</div>"
      ],
      "text/plain": [
       "        id\n",
       "0        1\n",
       "1        2\n",
       "2        3\n",
       "3        4\n",
       "4        5\n",
       "...    ...\n",
       "2245  2246\n",
       "2246  2247\n",
       "2247  2248\n",
       "2248  2249\n",
       "2249  2250\n",
       "\n",
       "[2250 rows x 1 columns]"
      ]
     },
     "execution_count": 13,
     "metadata": {},
     "output_type": "execute_result"
    }
   ],
   "source": [
    "final_df = pd.DataFrame()\n",
    "final_df = test_data[[\"id\"]]\n",
    "final_df"
   ]
  },
  {
   "attachments": {},
   "cell_type": "markdown",
   "metadata": {},
   "source": [
    "# LGBM"
   ]
  },
  {
   "cell_type": "code",
   "execution_count": 14,
   "metadata": {},
   "outputs": [
    {
     "name": "stdout",
     "output_type": "stream",
     "text": [
      "[LightGBM] [Warning] feature_fraction is set=0.3147999395726483, colsample_bytree=1.0 will be ignored. Current value: feature_fraction=0.3147999395726483\n",
      "[LightGBM] [Warning] bagging_fraction is set=0.34847746710838445, subsample=1.0 will be ignored. Current value: bagging_fraction=0.34847746710838445\n",
      "[LightGBM] [Warning] bagging_freq is set=4, subsample_freq=0 will be ignored. Current value: bagging_freq=4\n"
     ]
    },
    {
     "data": {
      "text/plain": [
       "0.88"
      ]
     },
     "execution_count": 14,
     "metadata": {},
     "output_type": "execute_result"
    }
   ],
   "source": [
    "best_params = {\n",
    "    'num_leaves': 365,\n",
    "    'learning_rate': 0.09953504603121897,\n",
    "    'feature_fraction': 0.3147999395726483,\n",
    "    'bagging_fraction': 0.34847746710838445,\n",
    "    'bagging_freq': 4,\n",
    "    'min_child_samples': 100\n",
    "}\n",
    "\n",
    "model = lgbm.LGBMClassifier(**best_params)\n",
    "model.fit(x_train, y_train)\n",
    "model.score(x_test, y_test)"
   ]
  },
  {
   "cell_type": "code",
   "execution_count": 15,
   "metadata": {},
   "outputs": [
    {
     "data": {
      "text/plain": [
       "array([0, 0, 0, ..., 1, 0, 0], dtype=int64)"
      ]
     },
     "execution_count": 15,
     "metadata": {},
     "output_type": "execute_result"
    }
   ],
   "source": [
    "model.predict(test_indep)"
   ]
  },
  {
   "cell_type": "code",
   "execution_count": 16,
   "metadata": {},
   "outputs": [
    {
     "data": {
      "text/html": [
       "<div>\n",
       "<style scoped>\n",
       "    .dataframe tbody tr th:only-of-type {\n",
       "        vertical-align: middle;\n",
       "    }\n",
       "\n",
       "    .dataframe tbody tr th {\n",
       "        vertical-align: top;\n",
       "    }\n",
       "\n",
       "    .dataframe thead th {\n",
       "        text-align: right;\n",
       "    }\n",
       "</style>\n",
       "<table border=\"1\" class=\"dataframe\">\n",
       "  <thead>\n",
       "    <tr style=\"text-align: right;\">\n",
       "      <th></th>\n",
       "      <th>id</th>\n",
       "      <th>labels</th>\n",
       "    </tr>\n",
       "  </thead>\n",
       "  <tbody>\n",
       "    <tr>\n",
       "      <th>0</th>\n",
       "      <td>1</td>\n",
       "      <td>0</td>\n",
       "    </tr>\n",
       "    <tr>\n",
       "      <th>1</th>\n",
       "      <td>2</td>\n",
       "      <td>0</td>\n",
       "    </tr>\n",
       "    <tr>\n",
       "      <th>2</th>\n",
       "      <td>3</td>\n",
       "      <td>0</td>\n",
       "    </tr>\n",
       "    <tr>\n",
       "      <th>3</th>\n",
       "      <td>4</td>\n",
       "      <td>0</td>\n",
       "    </tr>\n",
       "    <tr>\n",
       "      <th>4</th>\n",
       "      <td>5</td>\n",
       "      <td>0</td>\n",
       "    </tr>\n",
       "    <tr>\n",
       "      <th>...</th>\n",
       "      <td>...</td>\n",
       "      <td>...</td>\n",
       "    </tr>\n",
       "    <tr>\n",
       "      <th>2245</th>\n",
       "      <td>2246</td>\n",
       "      <td>0</td>\n",
       "    </tr>\n",
       "    <tr>\n",
       "      <th>2246</th>\n",
       "      <td>2247</td>\n",
       "      <td>0</td>\n",
       "    </tr>\n",
       "    <tr>\n",
       "      <th>2247</th>\n",
       "      <td>2248</td>\n",
       "      <td>1</td>\n",
       "    </tr>\n",
       "    <tr>\n",
       "      <th>2248</th>\n",
       "      <td>2249</td>\n",
       "      <td>0</td>\n",
       "    </tr>\n",
       "    <tr>\n",
       "      <th>2249</th>\n",
       "      <td>2250</td>\n",
       "      <td>0</td>\n",
       "    </tr>\n",
       "  </tbody>\n",
       "</table>\n",
       "<p>2250 rows × 2 columns</p>\n",
       "</div>"
      ],
      "text/plain": [
       "        id  labels\n",
       "0        1       0\n",
       "1        2       0\n",
       "2        3       0\n",
       "3        4       0\n",
       "4        5       0\n",
       "...    ...     ...\n",
       "2245  2246       0\n",
       "2246  2247       0\n",
       "2247  2248       1\n",
       "2248  2249       0\n",
       "2249  2250       0\n",
       "\n",
       "[2250 rows x 2 columns]"
      ]
     },
     "execution_count": 16,
     "metadata": {},
     "output_type": "execute_result"
    }
   ],
   "source": [
    "lis = model.predict(test_indep)\n",
    "\n",
    "my_series = pd.Series(lis)\n",
    "final_df[\"labels\"] = lis\n",
    "\n",
    "final_df"
   ]
  },
  {
   "cell_type": "code",
   "execution_count": 17,
   "metadata": {},
   "outputs": [],
   "source": [
    "final_df.to_csv(\"Final_Output_LGBM.csv\", index = False)"
   ]
  },
  {
   "cell_type": "markdown",
   "metadata": {},
   "source": [
    "# Neural Network"
   ]
  },
  {
   "cell_type": "code",
   "execution_count": 18,
   "metadata": {},
   "outputs": [],
   "source": [
    "class myCallback(tf.keras.callbacks.Callback):\n",
    "    def on_epoch_end(self, epoch, logs = {}):\n",
    "        if logs.get('val_accuracy') is not None and logs.get('val_accuracy') >= 0.90:                 \n",
    "            print(\"\\nReached 93% accuracy so cancelling training!\")\n",
    "            self.model.stop_training = True "
   ]
  },
  {
   "cell_type": "code",
   "execution_count": 19,
   "metadata": {},
   "outputs": [],
   "source": [
    "from tensorflow.keras.layers import LSTM\n",
    "\n",
    "callbacks = myCallback()\n",
    "\n",
    "model = tf.keras.Sequential(\n",
    "    [\n",
    "        tf.keras.layers.Dense(5024, activation='relu', kernel_regularizer=tf.keras.regularizers.l2(0.001)),\n",
    "        tf.keras.layers.Dropout(0.5),\n",
    "        tf.keras.layers.Dense(1024, activation='relu', kernel_regularizer=tf.keras.regularizers.l2(0.001)),\n",
    "        tf.keras.layers.Dropout(0.2),\n",
    "        tf.keras.layers.Dense(1, activation='sigmoid')\n",
    "    ]\n",
    ")\n",
    "\n",
    "optimizer=tf.keras.optimizers.Adam(learning_rate=0.01)\n",
    "\n",
    "model.compile(optimizer=optimizer, \n",
    "loss= \"binary_crossentropy\", \n",
    "metrics=['accuracy'])\n"
   ]
  },
  {
   "cell_type": "code",
   "execution_count": 20,
   "metadata": {},
   "outputs": [
    {
     "name": "stdout",
     "output_type": "stream",
     "text": [
      "Epoch 1/100\n",
      "132/132 [==============================] - 2s 6ms/step - loss: 17.0370 - accuracy: 0.7886 - val_loss: 7.3092 - val_accuracy: 0.8581\n",
      "Epoch 2/100\n",
      "132/132 [==============================] - 1s 5ms/step - loss: 3.6156 - accuracy: 0.8455 - val_loss: 1.8122 - val_accuracy: 0.8552\n",
      "Epoch 3/100\n",
      "132/132 [==============================] - 1s 5ms/step - loss: 1.8749 - accuracy: 0.8505 - val_loss: 1.7877 - val_accuracy: 0.8590\n",
      "Epoch 4/100\n",
      "132/132 [==============================] - 1s 5ms/step - loss: 1.4155 - accuracy: 0.8533 - val_loss: 1.0212 - val_accuracy: 0.8619\n",
      "Epoch 5/100\n",
      "132/132 [==============================] - 1s 5ms/step - loss: 1.2309 - accuracy: 0.8526 - val_loss: 1.3360 - val_accuracy: 0.8562\n",
      "Epoch 6/100\n",
      "132/132 [==============================] - 1s 5ms/step - loss: 1.1839 - accuracy: 0.8460 - val_loss: 0.9584 - val_accuracy: 0.8610\n",
      "Epoch 7/100\n",
      "132/132 [==============================] - 1s 5ms/step - loss: 1.2103 - accuracy: 0.8529 - val_loss: 1.3746 - val_accuracy: 0.8676\n",
      "Epoch 8/100\n",
      "132/132 [==============================] - 1s 4ms/step - loss: 1.2050 - accuracy: 0.8555 - val_loss: 0.8539 - val_accuracy: 0.8657\n",
      "Epoch 9/100\n",
      "132/132 [==============================] - 1s 4ms/step - loss: 1.3162 - accuracy: 0.8536 - val_loss: 1.9281 - val_accuracy: 0.8410\n",
      "Epoch 10/100\n",
      "132/132 [==============================] - 1s 5ms/step - loss: 1.5166 - accuracy: 0.8524 - val_loss: 1.0794 - val_accuracy: 0.8581\n",
      "Epoch 11/100\n",
      "132/132 [==============================] - 1s 5ms/step - loss: 1.6677 - accuracy: 0.8452 - val_loss: 2.0777 - val_accuracy: 0.8543\n",
      "Epoch 12/100\n",
      "132/132 [==============================] - 1s 4ms/step - loss: 1.9654 - accuracy: 0.8469 - val_loss: 1.3575 - val_accuracy: 0.8733\n",
      "Epoch 13/100\n",
      "132/132 [==============================] - 1s 5ms/step - loss: 1.6994 - accuracy: 0.8479 - val_loss: 1.4161 - val_accuracy: 0.8800\n",
      "Epoch 14/100\n",
      "132/132 [==============================] - 1s 5ms/step - loss: 1.4714 - accuracy: 0.8543 - val_loss: 1.5511 - val_accuracy: 0.8486\n",
      "Epoch 15/100\n",
      "132/132 [==============================] - 1s 5ms/step - loss: 1.8196 - accuracy: 0.8486 - val_loss: 1.5538 - val_accuracy: 0.8543\n",
      "Epoch 16/100\n",
      "132/132 [==============================] - 1s 5ms/step - loss: 1.2755 - accuracy: 0.8567 - val_loss: 1.1360 - val_accuracy: 0.8571\n",
      "Epoch 17/100\n",
      "132/132 [==============================] - 1s 5ms/step - loss: 0.9910 - accuracy: 0.8607 - val_loss: 0.7997 - val_accuracy: 0.8686\n",
      "Epoch 18/100\n",
      "132/132 [==============================] - 1s 6ms/step - loss: 0.9294 - accuracy: 0.8669 - val_loss: 1.0253 - val_accuracy: 0.8714\n",
      "Epoch 19/100\n",
      "132/132 [==============================] - 1s 5ms/step - loss: 1.0665 - accuracy: 0.8681 - val_loss: 0.8582 - val_accuracy: 0.8857\n",
      "Epoch 20/100\n",
      "132/132 [==============================] - 1s 5ms/step - loss: 0.8897 - accuracy: 0.8693 - val_loss: 0.8161 - val_accuracy: 0.8695\n",
      "Epoch 21/100\n",
      "132/132 [==============================] - 1s 5ms/step - loss: 0.9407 - accuracy: 0.8681 - val_loss: 1.1054 - val_accuracy: 0.8714\n",
      "Epoch 22/100\n",
      "132/132 [==============================] - 1s 5ms/step - loss: 0.9409 - accuracy: 0.8695 - val_loss: 0.8226 - val_accuracy: 0.8581\n",
      "Epoch 23/100\n",
      "132/132 [==============================] - 1s 5ms/step - loss: 0.8625 - accuracy: 0.8721 - val_loss: 0.7816 - val_accuracy: 0.8676\n",
      "Epoch 24/100\n",
      "132/132 [==============================] - 1s 4ms/step - loss: 0.7848 - accuracy: 0.8769 - val_loss: 0.7421 - val_accuracy: 0.8552\n",
      "Epoch 25/100\n",
      "132/132 [==============================] - 1s 5ms/step - loss: 0.7494 - accuracy: 0.8667 - val_loss: 0.7787 - val_accuracy: 0.8686\n",
      "Epoch 26/100\n",
      "132/132 [==============================] - 1s 5ms/step - loss: 0.7579 - accuracy: 0.8748 - val_loss: 0.8090 - val_accuracy: 0.8552\n",
      "Epoch 27/100\n",
      "132/132 [==============================] - 1s 5ms/step - loss: 0.7806 - accuracy: 0.8745 - val_loss: 0.7588 - val_accuracy: 0.8657\n",
      "Epoch 28/100\n",
      "132/132 [==============================] - 1s 5ms/step - loss: 0.7116 - accuracy: 0.8745 - val_loss: 0.7216 - val_accuracy: 0.8610\n",
      "Epoch 29/100\n",
      "132/132 [==============================] - 1s 6ms/step - loss: 0.7168 - accuracy: 0.8855 - val_loss: 0.7612 - val_accuracy: 0.8629\n",
      "Epoch 30/100\n",
      "132/132 [==============================] - 1s 5ms/step - loss: 0.7361 - accuracy: 0.8833 - val_loss: 0.7079 - val_accuracy: 0.8705\n",
      "Epoch 31/100\n",
      "132/132 [==============================] - 1s 5ms/step - loss: 0.6932 - accuracy: 0.8843 - val_loss: 0.7277 - val_accuracy: 0.8562\n",
      "Epoch 32/100\n",
      "132/132 [==============================] - 1s 5ms/step - loss: 0.6687 - accuracy: 0.8831 - val_loss: 0.7189 - val_accuracy: 0.8695\n",
      "Epoch 33/100\n",
      "132/132 [==============================] - 1s 4ms/step - loss: 0.6503 - accuracy: 0.8943 - val_loss: 0.6600 - val_accuracy: 0.8724\n",
      "Epoch 34/100\n",
      "132/132 [==============================] - 1s 4ms/step - loss: 0.6751 - accuracy: 0.8807 - val_loss: 0.7295 - val_accuracy: 0.8619\n",
      "Epoch 35/100\n",
      "132/132 [==============================] - 1s 5ms/step - loss: 0.7197 - accuracy: 0.8767 - val_loss: 0.7173 - val_accuracy: 0.8657\n",
      "Epoch 36/100\n",
      "132/132 [==============================] - 1s 5ms/step - loss: 0.6773 - accuracy: 0.8850 - val_loss: 0.6506 - val_accuracy: 0.8676\n",
      "Epoch 37/100\n",
      "132/132 [==============================] - 1s 4ms/step - loss: 0.6996 - accuracy: 0.8886 - val_loss: 0.7188 - val_accuracy: 0.8705\n",
      "Epoch 38/100\n",
      "132/132 [==============================] - 1s 4ms/step - loss: 0.6503 - accuracy: 0.8907 - val_loss: 0.6775 - val_accuracy: 0.8600\n",
      "Epoch 39/100\n",
      "132/132 [==============================] - 1s 4ms/step - loss: 0.6245 - accuracy: 0.8938 - val_loss: 0.6823 - val_accuracy: 0.8648\n",
      "Epoch 40/100\n",
      "132/132 [==============================] - 1s 5ms/step - loss: 0.6165 - accuracy: 0.8943 - val_loss: 0.6495 - val_accuracy: 0.8667\n",
      "Epoch 41/100\n",
      "132/132 [==============================] - 1s 5ms/step - loss: 0.6242 - accuracy: 0.8924 - val_loss: 0.6730 - val_accuracy: 0.8629\n",
      "Epoch 42/100\n",
      "132/132 [==============================] - 1s 5ms/step - loss: 0.5916 - accuracy: 0.8979 - val_loss: 0.6590 - val_accuracy: 0.8676\n",
      "Epoch 43/100\n",
      "132/132 [==============================] - 1s 5ms/step - loss: 0.6255 - accuracy: 0.8917 - val_loss: 0.6737 - val_accuracy: 0.8638\n",
      "Epoch 44/100\n",
      "132/132 [==============================] - 1s 5ms/step - loss: 0.6305 - accuracy: 0.8905 - val_loss: 0.6569 - val_accuracy: 0.8581\n",
      "Epoch 45/100\n",
      "132/132 [==============================] - 1s 6ms/step - loss: 0.5965 - accuracy: 0.8917 - val_loss: 0.6814 - val_accuracy: 0.8619\n",
      "Epoch 46/100\n",
      "132/132 [==============================] - 1s 5ms/step - loss: 0.6427 - accuracy: 0.8969 - val_loss: 0.6875 - val_accuracy: 0.8638\n",
      "Epoch 47/100\n",
      "132/132 [==============================] - 1s 5ms/step - loss: 0.6266 - accuracy: 0.8988 - val_loss: 0.6909 - val_accuracy: 0.8657\n",
      "Epoch 48/100\n",
      "132/132 [==============================] - 1s 6ms/step - loss: 0.6055 - accuracy: 0.8948 - val_loss: 0.6491 - val_accuracy: 0.8733\n",
      "Epoch 49/100\n",
      "132/132 [==============================] - 1s 6ms/step - loss: 0.6000 - accuracy: 0.8995 - val_loss: 0.6683 - val_accuracy: 0.8686\n",
      "Epoch 50/100\n",
      "132/132 [==============================] - 1s 5ms/step - loss: 0.6071 - accuracy: 0.9014 - val_loss: 0.6425 - val_accuracy: 0.8648\n",
      "Epoch 51/100\n",
      "132/132 [==============================] - 1s 5ms/step - loss: 0.6000 - accuracy: 0.8943 - val_loss: 0.6696 - val_accuracy: 0.8667\n",
      "Epoch 52/100\n",
      "132/132 [==============================] - 1s 5ms/step - loss: 0.6080 - accuracy: 0.9024 - val_loss: 0.6652 - val_accuracy: 0.8657\n",
      "Epoch 53/100\n",
      "132/132 [==============================] - 1s 5ms/step - loss: 0.6143 - accuracy: 0.8974 - val_loss: 0.6765 - val_accuracy: 0.8638\n",
      "Epoch 54/100\n",
      "132/132 [==============================] - 1s 5ms/step - loss: 0.6167 - accuracy: 0.9010 - val_loss: 0.6746 - val_accuracy: 0.8676\n",
      "Epoch 55/100\n",
      "132/132 [==============================] - 1s 6ms/step - loss: 0.5884 - accuracy: 0.9107 - val_loss: 0.6880 - val_accuracy: 0.8705\n",
      "Epoch 56/100\n",
      "132/132 [==============================] - 1s 5ms/step - loss: 0.6093 - accuracy: 0.9012 - val_loss: 0.6431 - val_accuracy: 0.8686\n",
      "Epoch 57/100\n",
      "132/132 [==============================] - 1s 5ms/step - loss: 0.5963 - accuracy: 0.9017 - val_loss: 0.6989 - val_accuracy: 0.8648\n",
      "Epoch 58/100\n",
      "132/132 [==============================] - 1s 5ms/step - loss: 0.6336 - accuracy: 0.8933 - val_loss: 0.6716 - val_accuracy: 0.8705\n",
      "Epoch 59/100\n",
      "132/132 [==============================] - 1s 5ms/step - loss: 0.6009 - accuracy: 0.9043 - val_loss: 0.6659 - val_accuracy: 0.8657\n",
      "Epoch 60/100\n",
      "132/132 [==============================] - 1s 5ms/step - loss: 0.6009 - accuracy: 0.9014 - val_loss: 0.6493 - val_accuracy: 0.8667\n",
      "Epoch 61/100\n",
      "132/132 [==============================] - 1s 5ms/step - loss: 0.5968 - accuracy: 0.9019 - val_loss: 0.6520 - val_accuracy: 0.8657\n",
      "Epoch 62/100\n",
      "132/132 [==============================] - 1s 6ms/step - loss: 0.5931 - accuracy: 0.9005 - val_loss: 0.6591 - val_accuracy: 0.8676\n",
      "Epoch 63/100\n",
      "132/132 [==============================] - 1s 5ms/step - loss: 0.5768 - accuracy: 0.9040 - val_loss: 0.6403 - val_accuracy: 0.8600\n",
      "Epoch 64/100\n",
      "132/132 [==============================] - 1s 5ms/step - loss: 0.6141 - accuracy: 0.8940 - val_loss: 0.6637 - val_accuracy: 0.8762\n",
      "Epoch 65/100\n",
      "132/132 [==============================] - 1s 5ms/step - loss: 0.6033 - accuracy: 0.8950 - val_loss: 0.6698 - val_accuracy: 0.8657\n",
      "Epoch 66/100\n",
      "132/132 [==============================] - 1s 6ms/step - loss: 0.6111 - accuracy: 0.8971 - val_loss: 0.6608 - val_accuracy: 0.8610\n",
      "Epoch 67/100\n",
      "132/132 [==============================] - 1s 6ms/step - loss: 0.6021 - accuracy: 0.9029 - val_loss: 0.6452 - val_accuracy: 0.8619\n",
      "Epoch 68/100\n",
      "132/132 [==============================] - 1s 6ms/step - loss: 0.6028 - accuracy: 0.9005 - val_loss: 0.6627 - val_accuracy: 0.8676\n",
      "Epoch 69/100\n",
      "132/132 [==============================] - 1s 6ms/step - loss: 0.5979 - accuracy: 0.8998 - val_loss: 0.6770 - val_accuracy: 0.8562\n",
      "Epoch 70/100\n",
      "132/132 [==============================] - 1s 6ms/step - loss: 0.5962 - accuracy: 0.9031 - val_loss: 0.6519 - val_accuracy: 0.8705\n",
      "Epoch 71/100\n",
      "132/132 [==============================] - 1s 6ms/step - loss: 0.6047 - accuracy: 0.8998 - val_loss: 0.6489 - val_accuracy: 0.8629\n",
      "Epoch 72/100\n",
      "132/132 [==============================] - 1s 5ms/step - loss: 0.5926 - accuracy: 0.9060 - val_loss: 0.6434 - val_accuracy: 0.8638\n",
      "Epoch 73/100\n",
      "132/132 [==============================] - 1s 5ms/step - loss: 0.5899 - accuracy: 0.8990 - val_loss: 0.6716 - val_accuracy: 0.8705\n",
      "Epoch 74/100\n",
      "132/132 [==============================] - 1s 7ms/step - loss: 0.6041 - accuracy: 0.8974 - val_loss: 0.6438 - val_accuracy: 0.8705\n",
      "Epoch 75/100\n",
      "132/132 [==============================] - 1s 6ms/step - loss: 0.5793 - accuracy: 0.9057 - val_loss: 0.6481 - val_accuracy: 0.8752\n",
      "Epoch 76/100\n",
      "132/132 [==============================] - 1s 5ms/step - loss: 0.5683 - accuracy: 0.9024 - val_loss: 0.6133 - val_accuracy: 0.8695\n",
      "Epoch 77/100\n",
      "132/132 [==============================] - 1s 7ms/step - loss: 0.5745 - accuracy: 0.8960 - val_loss: 0.6416 - val_accuracy: 0.8657\n",
      "Epoch 78/100\n",
      "132/132 [==============================] - 1s 6ms/step - loss: 0.5963 - accuracy: 0.8981 - val_loss: 0.6247 - val_accuracy: 0.8686\n",
      "Epoch 79/100\n",
      "132/132 [==============================] - 1s 5ms/step - loss: 0.5907 - accuracy: 0.9019 - val_loss: 0.6912 - val_accuracy: 0.8657\n",
      "Epoch 80/100\n",
      "132/132 [==============================] - 1s 6ms/step - loss: 0.6095 - accuracy: 0.8950 - val_loss: 0.6311 - val_accuracy: 0.8686\n",
      "Epoch 81/100\n",
      "132/132 [==============================] - 1s 6ms/step - loss: 0.5812 - accuracy: 0.8995 - val_loss: 0.6435 - val_accuracy: 0.8686\n",
      "Epoch 82/100\n",
      "132/132 [==============================] - 1s 6ms/step - loss: 0.5737 - accuracy: 0.9017 - val_loss: 0.6299 - val_accuracy: 0.8600\n",
      "Epoch 83/100\n",
      "132/132 [==============================] - 1s 6ms/step - loss: 0.5596 - accuracy: 0.9017 - val_loss: 0.6394 - val_accuracy: 0.8695\n",
      "Epoch 84/100\n",
      "132/132 [==============================] - 1s 7ms/step - loss: 0.5803 - accuracy: 0.8983 - val_loss: 0.6262 - val_accuracy: 0.8581\n",
      "Epoch 85/100\n",
      "132/132 [==============================] - 1s 6ms/step - loss: 0.5623 - accuracy: 0.8986 - val_loss: 0.6300 - val_accuracy: 0.8695\n",
      "Epoch 86/100\n",
      "132/132 [==============================] - 1s 4ms/step - loss: 0.5716 - accuracy: 0.8969 - val_loss: 0.6054 - val_accuracy: 0.8724\n",
      "Epoch 87/100\n",
      "132/132 [==============================] - 1s 5ms/step - loss: 0.5899 - accuracy: 0.8917 - val_loss: 0.6140 - val_accuracy: 0.8705\n",
      "Epoch 88/100\n",
      "132/132 [==============================] - 1s 6ms/step - loss: 0.5655 - accuracy: 0.9021 - val_loss: 0.6381 - val_accuracy: 0.8638\n",
      "Epoch 89/100\n",
      "132/132 [==============================] - 1s 6ms/step - loss: 0.6002 - accuracy: 0.8919 - val_loss: 0.6226 - val_accuracy: 0.8771\n",
      "Epoch 90/100\n",
      "132/132 [==============================] - 1s 5ms/step - loss: 0.5645 - accuracy: 0.9002 - val_loss: 0.6400 - val_accuracy: 0.8705\n",
      "Epoch 91/100\n",
      "132/132 [==============================] - 1s 6ms/step - loss: 0.5776 - accuracy: 0.8998 - val_loss: 0.6194 - val_accuracy: 0.8629\n",
      "Epoch 92/100\n",
      "132/132 [==============================] - 1s 5ms/step - loss: 0.5729 - accuracy: 0.8986 - val_loss: 0.6509 - val_accuracy: 0.8505\n",
      "Epoch 93/100\n",
      "132/132 [==============================] - 1s 5ms/step - loss: 0.5929 - accuracy: 0.8952 - val_loss: 0.6315 - val_accuracy: 0.8610\n",
      "Epoch 94/100\n",
      "132/132 [==============================] - 1s 6ms/step - loss: 0.5798 - accuracy: 0.8950 - val_loss: 0.6284 - val_accuracy: 0.8629\n",
      "Epoch 95/100\n",
      "132/132 [==============================] - 1s 6ms/step - loss: 0.5903 - accuracy: 0.8952 - val_loss: 0.6367 - val_accuracy: 0.8619\n",
      "Epoch 96/100\n",
      "132/132 [==============================] - 1s 6ms/step - loss: 0.5616 - accuracy: 0.9052 - val_loss: 0.6285 - val_accuracy: 0.8619\n",
      "Epoch 97/100\n",
      "132/132 [==============================] - 1s 6ms/step - loss: 0.5612 - accuracy: 0.9083 - val_loss: 0.6440 - val_accuracy: 0.8667\n",
      "Epoch 98/100\n",
      "132/132 [==============================] - 1s 6ms/step - loss: 0.5665 - accuracy: 0.8990 - val_loss: 0.6259 - val_accuracy: 0.8657\n",
      "Epoch 99/100\n",
      "132/132 [==============================] - 1s 5ms/step - loss: 0.5398 - accuracy: 0.9045 - val_loss: 0.5792 - val_accuracy: 0.8695\n",
      "Epoch 100/100\n",
      "132/132 [==============================] - 1s 6ms/step - loss: 0.5574 - accuracy: 0.9010 - val_loss: 0.6290 - val_accuracy: 0.8733\n"
     ]
    }
   ],
   "source": [
    "history = model.fit(x_train, y_train, epochs = 100, callbacks=[callbacks], validation_data= (x_test, y_test))"
   ]
  },
  {
   "cell_type": "code",
   "execution_count": 21,
   "metadata": {},
   "outputs": [
    {
     "data": {
      "image/png": "[encoded data removed]",
      "text/plain": [
       "<Figure size 640x480 with 1 Axes>"
      ]
     },
     "metadata": {},
     "output_type": "display_data"
    },
    {
     "data": {
      "image/png": "[encoded data removed]",
      "text/plain": [
       "<Figure size 640x480 with 1 Axes>"
      ]
     },
     "metadata": {},
     "output_type": "display_data"
    }
   ],
   "source": [
    "def plot_graphs(history, metric):\n",
    "    plt.plot(history.history[metric])\n",
    "    plt.plot(history.history[\"val_{}\".format(metric)])\n",
    "    plt.xlabel(\"Epochs\")\n",
    "    plt.ylabel(metric)\n",
    "    plt.legend([metric, f'val_{metric}'])\n",
    "    plt.show()\n",
    "    \n",
    "plot_graphs(history, \"accuracy\")\n",
    "plot_graphs(history, \"loss\")"
   ]
  },
  {
   "cell_type": "code",
   "execution_count": 22,
   "metadata": {},
   "outputs": [
    {
     "name": "stdout",
     "output_type": "stream",
     "text": [
      "71/71 [==============================] - 0s 2ms/step\n"
     ]
    },
    {
     "data": {
      "text/plain": [
       "[1, 0, 0, 0, 0]"
      ]
     },
     "execution_count": 22,
     "metadata": {},
     "output_type": "execute_result"
    }
   ],
   "source": [
    "model_predictions = model.predict(test_indep)\n",
    "\n",
    "lis = []\n",
    "\n",
    "for x in model_predictions:\n",
    "    if x >= 0.5:\n",
    "        lis.append(1)\n",
    "    else:\n",
    "        lis.append(0)\n",
    "lis[:5]"
   ]
  },
  {
   "cell_type": "code",
   "execution_count": 23,
   "metadata": {},
   "outputs": [
    {
     "data": {
      "text/plain": [
       "2250"
      ]
     },
     "execution_count": 23,
     "metadata": {},
     "output_type": "execute_result"
    }
   ],
   "source": [
    "len(lis)"
   ]
  },
  {
   "cell_type": "code",
   "execution_count": 24,
   "metadata": {},
   "outputs": [
    {
     "data": {
      "text/html": [
       "<div>\n",
       "<style scoped>\n",
       "    .dataframe tbody tr th:only-of-type {\n",
       "        vertical-align: middle;\n",
       "    }\n",
       "\n",
       "    .dataframe tbody tr th {\n",
       "        vertical-align: top;\n",
       "    }\n",
       "\n",
       "    .dataframe thead th {\n",
       "        text-align: right;\n",
       "    }\n",
       "</style>\n",
       "<table border=\"1\" class=\"dataframe\">\n",
       "  <thead>\n",
       "    <tr style=\"text-align: right;\">\n",
       "      <th></th>\n",
       "      <th>id</th>\n",
       "      <th>labels</th>\n",
       "    </tr>\n",
       "  </thead>\n",
       "  <tbody>\n",
       "    <tr>\n",
       "      <th>0</th>\n",
       "      <td>1</td>\n",
       "      <td>1</td>\n",
       "    </tr>\n",
       "    <tr>\n",
       "      <th>1</th>\n",
       "      <td>2</td>\n",
       "      <td>0</td>\n",
       "    </tr>\n",
       "    <tr>\n",
       "      <th>2</th>\n",
       "      <td>3</td>\n",
       "      <td>0</td>\n",
       "    </tr>\n",
       "    <tr>\n",
       "      <th>3</th>\n",
       "      <td>4</td>\n",
       "      <td>0</td>\n",
       "    </tr>\n",
       "    <tr>\n",
       "      <th>4</th>\n",
       "      <td>5</td>\n",
       "      <td>0</td>\n",
       "    </tr>\n",
       "    <tr>\n",
       "      <th>...</th>\n",
       "      <td>...</td>\n",
       "      <td>...</td>\n",
       "    </tr>\n",
       "    <tr>\n",
       "      <th>2245</th>\n",
       "      <td>2246</td>\n",
       "      <td>0</td>\n",
       "    </tr>\n",
       "    <tr>\n",
       "      <th>2246</th>\n",
       "      <td>2247</td>\n",
       "      <td>0</td>\n",
       "    </tr>\n",
       "    <tr>\n",
       "      <th>2247</th>\n",
       "      <td>2248</td>\n",
       "      <td>1</td>\n",
       "    </tr>\n",
       "    <tr>\n",
       "      <th>2248</th>\n",
       "      <td>2249</td>\n",
       "      <td>0</td>\n",
       "    </tr>\n",
       "    <tr>\n",
       "      <th>2249</th>\n",
       "      <td>2250</td>\n",
       "      <td>1</td>\n",
       "    </tr>\n",
       "  </tbody>\n",
       "</table>\n",
       "<p>2250 rows × 2 columns</p>\n",
       "</div>"
      ],
      "text/plain": [
       "        id  labels\n",
       "0        1       1\n",
       "1        2       0\n",
       "2        3       0\n",
       "3        4       0\n",
       "4        5       0\n",
       "...    ...     ...\n",
       "2245  2246       0\n",
       "2246  2247       0\n",
       "2247  2248       1\n",
       "2248  2249       0\n",
       "2249  2250       1\n",
       "\n",
       "[2250 rows x 2 columns]"
      ]
     },
     "execution_count": 24,
     "metadata": {},
     "output_type": "execute_result"
    }
   ],
   "source": [
    "my_series = pd.Series(lis)\n",
    "final_df[\"labels\"] = lis\n",
    "\n",
    "final_df"
   ]
  },
  {
   "cell_type": "code",
   "execution_count": 25,
   "metadata": {},
   "outputs": [],
   "source": [
    "final_df.to_csv(\"Final_Output.csv\", index = False)"
   ]
  },
  {
   "attachments": {},
   "cell_type": "markdown",
   "metadata": {},
   "source": [
    "# DECISION TREE"
   ]
  },
  {
   "cell_type": "code",
   "execution_count": 26,
   "metadata": {},
   "outputs": [
    {
     "data": {
      "text/html": [
       "<style>#sk-container-id-1 {color: black;background-color: white;}#sk-container-id-1 pre{padding: 0;}#sk-container-id-1 div.sk-toggleable {background-color: white;}#sk-container-id-1 label.sk-toggleable__label {cursor: pointer;display: block;width: 100%;margin-bottom: 0;padding: 0.3em;box-sizing: border-box;text-align: center;}#sk-container-id-1 label.sk-toggleable__label-arrow:before {content: \"▸\";float: left;margin-right: 0.25em;color: #696969;}#sk-container-id-1 label.sk-toggleable__label-arrow:hover:before {color: black;}#sk-container-id-1 div.sk-estimator:hover label.sk-toggleable__label-arrow:before {color: black;}#sk-container-id-1 div.sk-toggleable__content {max-height: 0;max-width: 0;overflow: hidden;text-align: left;background-color: #f0f8ff;}#sk-container-id-1 div.sk-toggleable__content pre {margin: 0.2em;color: black;border-radius: 0.25em;background-color: #f0f8ff;}#sk-container-id-1 input.sk-toggleable__control:checked~div.sk-toggleable__content {max-height: 200px;max-width: 100%;overflow: auto;}#sk-container-id-1 input.sk-toggleable__control:checked~label.sk-toggleable__label-arrow:before {content: \"▾\";}#sk-container-id-1 div.sk-estimator input.sk-toggleable__control:checked~label.sk-toggleable__label {background-color: #d4ebff;}#sk-container-id-1 div.sk-label input.sk-toggleable__control:checked~label.sk-toggleable__label {background-color: #d4ebff;}#sk-container-id-1 input.sk-hidden--visually {border: 0;clip: rect(1px 1px 1px 1px);clip: rect(1px, 1px, 1px, 1px);height: 1px;margin: -1px;overflow: hidden;padding: 0;position: absolute;width: 1px;}#sk-container-id-1 div.sk-estimator {font-family: monospace;background-color: #f0f8ff;border: 1px dotted black;border-radius: 0.25em;box-sizing: border-box;margin-bottom: 0.5em;}#sk-container-id-1 div.sk-estimator:hover {background-color: #d4ebff;}#sk-container-id-1 div.sk-parallel-item::after {content: \"\";width: 100%;border-bottom: 1px solid gray;flex-grow: 1;}#sk-container-id-1 div.sk-label:hover label.sk-toggleable__label {background-color: #d4ebff;}#sk-container-id-1 div.sk-serial::before {content: \"\";position: absolute;border-left: 1px solid gray;box-sizing: border-box;top: 0;bottom: 0;left: 50%;z-index: 0;}#sk-container-id-1 div.sk-serial {display: flex;flex-direction: column;align-items: center;background-color: white;padding-right: 0.2em;padding-left: 0.2em;position: relative;}#sk-container-id-1 div.sk-item {position: relative;z-index: 1;}#sk-container-id-1 div.sk-parallel {display: flex;align-items: stretch;justify-content: center;background-color: white;position: relative;}#sk-container-id-1 div.sk-item::before, #sk-container-id-1 div.sk-parallel-item::before {content: \"\";position: absolute;border-left: 1px solid gray;box-sizing: border-box;top: 0;bottom: 0;left: 50%;z-index: -1;}#sk-container-id-1 div.sk-parallel-item {display: flex;flex-direction: column;z-index: 1;position: relative;background-color: white;}#sk-container-id-1 div.sk-parallel-item:first-child::after {align-self: flex-end;width: 50%;}#sk-container-id-1 div.sk-parallel-item:last-child::after {align-self: flex-start;width: 50%;}#sk-container-id-1 div.sk-parallel-item:only-child::after {width: 0;}#sk-container-id-1 div.sk-dashed-wrapped {border: 1px dashed gray;margin: 0 0.4em 0.5em 0.4em;box-sizing: border-box;padding-bottom: 0.4em;background-color: white;}#sk-container-id-1 div.sk-label label {font-family: monospace;font-weight: bold;display: inline-block;line-height: 1.2em;}#sk-container-id-1 div.sk-label-container {text-align: center;}#sk-container-id-1 div.sk-container {/* jupyter's `normalize.less` sets `[hidden] { display: none; }` but bootstrap.min.css set `[hidden] { display: none !important; }` so we also need the `!important` here to be able to override the default hidden behavior on the sphinx rendered scikit-learn.org. See: https://github.com/scikit-learn/scikit-learn/issues/21755 */display: inline-block !important;position: relative;}#sk-container-id-1 div.sk-text-repr-fallback {display: none;}</style><div id=\"sk-container-id-1\" class=\"sk-top-container\"><div class=\"sk-text-repr-fallback\"><pre>DecisionTreeClassifier()</pre><b>In a Jupyter environment, please rerun this cell to show the HTML representation or trust the notebook. <br />On GitHub, the HTML representation is unable to render, please try loading this page with nbviewer.org.</b></div><div class=\"sk-container\" hidden><div class=\"sk-item\"><div class=\"sk-estimator sk-toggleable\"><input class=\"sk-toggleable__control sk-hidden--visually\" id=\"sk-estimator-id-1\" type=\"checkbox\" checked><label for=\"sk-estimator-id-1\" class=\"sk-toggleable__label sk-toggleable__label-arrow\">DecisionTreeClassifier</label><div class=\"sk-toggleable__content\"><pre>DecisionTreeClassifier()</pre></div></div></div></div></div>"
      ],
      "text/plain": [
       "DecisionTreeClassifier()"
      ]
     },
     "execution_count": 26,
     "metadata": {},
     "output_type": "execute_result"
    }
   ],
   "source": [
    "from sklearn.metrics import accuracy_score\n",
    "\n",
    "drugTree = DecisionTreeClassifier()\n",
    "#clf.fit(X_train, y_train)\n",
    "#y_pred = clf.predict(X_test)\n",
    "#accuracy = accuracy_score(y_test, y_pred)\n",
    "#print(\"Accuracy:\", accuracy)\n",
    "\n",
    "#drugTree = DecisionTreeClassifier(criterion=\"entropy\", max_depth = 9)\n",
    "drugTree"
   ]
  },
  {
   "cell_type": "code",
   "execution_count": 27,
   "metadata": {},
   "outputs": [
    {
     "data": {
      "text/html": [
       "<style>#sk-container-id-2 {color: black;background-color: white;}#sk-container-id-2 pre{padding: 0;}#sk-container-id-2 div.sk-toggleable {background-color: white;}#sk-container-id-2 label.sk-toggleable__label {cursor: pointer;display: block;width: 100%;margin-bottom: 0;padding: 0.3em;box-sizing: border-box;text-align: center;}#sk-container-id-2 label.sk-toggleable__label-arrow:before {content: \"▸\";float: left;margin-right: 0.25em;color: #696969;}#sk-container-id-2 label.sk-toggleable__label-arrow:hover:before {color: black;}#sk-container-id-2 div.sk-estimator:hover label.sk-toggleable__label-arrow:before {color: black;}#sk-container-id-2 div.sk-toggleable__content {max-height: 0;max-width: 0;overflow: hidden;text-align: left;background-color: #f0f8ff;}#sk-container-id-2 div.sk-toggleable__content pre {margin: 0.2em;color: black;border-radius: 0.25em;background-color: #f0f8ff;}#sk-container-id-2 input.sk-toggleable__control:checked~div.sk-toggleable__content {max-height: 200px;max-width: 100%;overflow: auto;}#sk-container-id-2 input.sk-toggleable__control:checked~label.sk-toggleable__label-arrow:before {content: \"▾\";}#sk-container-id-2 div.sk-estimator input.sk-toggleable__control:checked~label.sk-toggleable__label {background-color: #d4ebff;}#sk-container-id-2 div.sk-label input.sk-toggleable__control:checked~label.sk-toggleable__label {background-color: #d4ebff;}#sk-container-id-2 input.sk-hidden--visually {border: 0;clip: rect(1px 1px 1px 1px);clip: rect(1px, 1px, 1px, 1px);height: 1px;margin: -1px;overflow: hidden;padding: 0;position: absolute;width: 1px;}#sk-container-id-2 div.sk-estimator {font-family: monospace;background-color: #f0f8ff;border: 1px dotted black;border-radius: 0.25em;box-sizing: border-box;margin-bottom: 0.5em;}#sk-container-id-2 div.sk-estimator:hover {background-color: #d4ebff;}#sk-container-id-2 div.sk-parallel-item::after {content: \"\";width: 100%;border-bottom: 1px solid gray;flex-grow: 1;}#sk-container-id-2 div.sk-label:hover label.sk-toggleable__label {background-color: #d4ebff;}#sk-container-id-2 div.sk-serial::before {content: \"\";position: absolute;border-left: 1px solid gray;box-sizing: border-box;top: 0;bottom: 0;left: 50%;z-index: 0;}#sk-container-id-2 div.sk-serial {display: flex;flex-direction: column;align-items: center;background-color: white;padding-right: 0.2em;padding-left: 0.2em;position: relative;}#sk-container-id-2 div.sk-item {position: relative;z-index: 1;}#sk-container-id-2 div.sk-parallel {display: flex;align-items: stretch;justify-content: center;background-color: white;position: relative;}#sk-container-id-2 div.sk-item::before, #sk-container-id-2 div.sk-parallel-item::before {content: \"\";position: absolute;border-left: 1px solid gray;box-sizing: border-box;top: 0;bottom: 0;left: 50%;z-index: -1;}#sk-container-id-2 div.sk-parallel-item {display: flex;flex-direction: column;z-index: 1;position: relative;background-color: white;}#sk-container-id-2 div.sk-parallel-item:first-child::after {align-self: flex-end;width: 50%;}#sk-container-id-2 div.sk-parallel-item:last-child::after {align-self: flex-start;width: 50%;}#sk-container-id-2 div.sk-parallel-item:only-child::after {width: 0;}#sk-container-id-2 div.sk-dashed-wrapped {border: 1px dashed gray;margin: 0 0.4em 0.5em 0.4em;box-sizing: border-box;padding-bottom: 0.4em;background-color: white;}#sk-container-id-2 div.sk-label label {font-family: monospace;font-weight: bold;display: inline-block;line-height: 1.2em;}#sk-container-id-2 div.sk-label-container {text-align: center;}#sk-container-id-2 div.sk-container {/* jupyter's `normalize.less` sets `[hidden] { display: none; }` but bootstrap.min.css set `[hidden] { display: none !important; }` so we also need the `!important` here to be able to override the default hidden behavior on the sphinx rendered scikit-learn.org. See: https://github.com/scikit-learn/scikit-learn/issues/21755 */display: inline-block !important;position: relative;}#sk-container-id-2 div.sk-text-repr-fallback {display: none;}</style><div id=\"sk-container-id-2\" class=\"sk-top-container\"><div class=\"sk-text-repr-fallback\"><pre>DecisionTreeClassifier()</pre><b>In a Jupyter environment, please rerun this cell to show the HTML representation or trust the notebook. <br />On GitHub, the HTML representation is unable to render, please try loading this page with nbviewer.org.</b></div><div class=\"sk-container\" hidden><div class=\"sk-item\"><div class=\"sk-estimator sk-toggleable\"><input class=\"sk-toggleable__control sk-hidden--visually\" id=\"sk-estimator-id-2\" type=\"checkbox\" checked><label for=\"sk-estimator-id-2\" class=\"sk-toggleable__label sk-toggleable__label-arrow\">DecisionTreeClassifier</label><div class=\"sk-toggleable__content\"><pre>DecisionTreeClassifier()</pre></div></div></div></div></div>"
      ],
      "text/plain": [
       "DecisionTreeClassifier()"
      ]
     },
     "execution_count": 27,
     "metadata": {},
     "output_type": "execute_result"
    }
   ],
   "source": [
    "drugTree.fit(x_train, y_train)"
   ]
  },
  {
   "cell_type": "code",
   "execution_count": 28,
   "metadata": {},
   "outputs": [
    {
     "data": {
      "text/plain": [
       "array([0, 1, 1, ..., 0, 0, 0], dtype=int64)"
      ]
     },
     "execution_count": 28,
     "metadata": {},
     "output_type": "execute_result"
    }
   ],
   "source": [
    "predTree = drugTree.predict(x_test)\n",
    "predTree"
   ]
  },
  {
   "cell_type": "code",
   "execution_count": 29,
   "metadata": {},
   "outputs": [
    {
     "name": "stdout",
     "output_type": "stream",
     "text": [
      "Accuracy: 0.7685714285714286\n"
     ]
    }
   ],
   "source": [
    "accuracy = accuracy_score(y_test, predTree)\n",
    "print(\"Accuracy:\", accuracy)"
   ]
  },
  {
   "cell_type": "code",
   "execution_count": 30,
   "metadata": {},
   "outputs": [
    {
     "data": {
      "image/png": "[encoded data removed]",
      "text/plain": [
       "<Figure size 640x480 with 1 Axes>"
      ]
     },
     "metadata": {},
     "output_type": "display_data"
    }
   ],
   "source": [
    "tree.plot_tree(drugTree)\n",
    "plt.show()"
   ]
  },
  {
   "cell_type": "code",
   "execution_count": 31,
   "metadata": {},
   "outputs": [
    {
     "ename": "ValueError",
     "evalue": "Length of values (1050) does not match length of index (2250)",
     "output_type": "error",
     "traceback": [
      "\u001b[1;31m---------------------------------------------------------------------------\u001b[0m",
      "\u001b[1;31mValueError\u001b[0m                                Traceback (most recent call last)",
      "Cell \u001b[1;32mIn[31], line 2\u001b[0m\n\u001b[0;32m      1\u001b[0m my_series \u001b[39m=\u001b[39m pd\u001b[39m.\u001b[39mSeries(predTree)\n\u001b[1;32m----> 2\u001b[0m final_df[\u001b[39m\"\u001b[39;49m\u001b[39mlabels\u001b[39;49m\u001b[39m\"\u001b[39;49m] \u001b[39m=\u001b[39m predTree\n\u001b[0;32m      4\u001b[0m final_df\n",
      "File \u001b[1;32mc:\\Users\\haris\\miniconda3\\envs\\miniconda-py3-tf2.0\\lib\\site-packages\\pandas\\core\\frame.py:3960\u001b[0m, in \u001b[0;36mDataFrame.__setitem__\u001b[1;34m(self, key, value)\u001b[0m\n\u001b[0;32m   3957\u001b[0m     \u001b[39mself\u001b[39m\u001b[39m.\u001b[39m_setitem_array([key], value)\n\u001b[0;32m   3958\u001b[0m \u001b[39melse\u001b[39;00m:\n\u001b[0;32m   3959\u001b[0m     \u001b[39m# set column\u001b[39;00m\n\u001b[1;32m-> 3960\u001b[0m     \u001b[39mself\u001b[39;49m\u001b[39m.\u001b[39;49m_set_item(key, value)\n",
      "File \u001b[1;32mc:\\Users\\haris\\miniconda3\\envs\\miniconda-py3-tf2.0\\lib\\site-packages\\pandas\\core\\frame.py:4153\u001b[0m, in \u001b[0;36mDataFrame._set_item\u001b[1;34m(self, key, value)\u001b[0m\n\u001b[0;32m   4143\u001b[0m \u001b[39mdef\u001b[39;00m \u001b[39m_set_item\u001b[39m(\u001b[39mself\u001b[39m, key, value) \u001b[39m-\u001b[39m\u001b[39m>\u001b[39m \u001b[39mNone\u001b[39;00m:\n\u001b[0;32m   4144\u001b[0m \u001b[39m    \u001b[39m\u001b[39m\"\"\"\u001b[39;00m\n\u001b[0;32m   4145\u001b[0m \u001b[39m    Add series to DataFrame in specified column.\u001b[39;00m\n\u001b[0;32m   4146\u001b[0m \n\u001b[1;32m   (...)\u001b[0m\n\u001b[0;32m   4151\u001b[0m \u001b[39m    ensure homogeneity.\u001b[39;00m\n\u001b[0;32m   4152\u001b[0m \u001b[39m    \"\"\"\u001b[39;00m\n\u001b[1;32m-> 4153\u001b[0m     value \u001b[39m=\u001b[39m \u001b[39mself\u001b[39;49m\u001b[39m.\u001b[39;49m_sanitize_column(value)\n\u001b[0;32m   4155\u001b[0m     \u001b[39mif\u001b[39;00m (\n\u001b[0;32m   4156\u001b[0m         key \u001b[39min\u001b[39;00m \u001b[39mself\u001b[39m\u001b[39m.\u001b[39mcolumns\n\u001b[0;32m   4157\u001b[0m         \u001b[39mand\u001b[39;00m value\u001b[39m.\u001b[39mndim \u001b[39m==\u001b[39m \u001b[39m1\u001b[39m\n\u001b[0;32m   4158\u001b[0m         \u001b[39mand\u001b[39;00m \u001b[39mnot\u001b[39;00m is_extension_array_dtype(value)\n\u001b[0;32m   4159\u001b[0m     ):\n\u001b[0;32m   4160\u001b[0m         \u001b[39m# broadcast across multiple columns if necessary\u001b[39;00m\n\u001b[0;32m   4161\u001b[0m         \u001b[39mif\u001b[39;00m \u001b[39mnot\u001b[39;00m \u001b[39mself\u001b[39m\u001b[39m.\u001b[39mcolumns\u001b[39m.\u001b[39mis_unique \u001b[39mor\u001b[39;00m \u001b[39misinstance\u001b[39m(\u001b[39mself\u001b[39m\u001b[39m.\u001b[39mcolumns, MultiIndex):\n",
      "File \u001b[1;32mc:\\Users\\haris\\miniconda3\\envs\\miniconda-py3-tf2.0\\lib\\site-packages\\pandas\\core\\frame.py:4880\u001b[0m, in \u001b[0;36mDataFrame._sanitize_column\u001b[1;34m(self, value)\u001b[0m\n\u001b[0;32m   4877\u001b[0m     \u001b[39mreturn\u001b[39;00m _reindex_for_setitem(Series(value), \u001b[39mself\u001b[39m\u001b[39m.\u001b[39mindex)\n\u001b[0;32m   4879\u001b[0m \u001b[39mif\u001b[39;00m is_list_like(value):\n\u001b[1;32m-> 4880\u001b[0m     com\u001b[39m.\u001b[39;49mrequire_length_match(value, \u001b[39mself\u001b[39;49m\u001b[39m.\u001b[39;49mindex)\n\u001b[0;32m   4881\u001b[0m \u001b[39mreturn\u001b[39;00m sanitize_array(value, \u001b[39mself\u001b[39m\u001b[39m.\u001b[39mindex, copy\u001b[39m=\u001b[39m\u001b[39mTrue\u001b[39;00m, allow_2d\u001b[39m=\u001b[39m\u001b[39mTrue\u001b[39;00m)\n",
      "File \u001b[1;32mc:\\Users\\haris\\miniconda3\\envs\\miniconda-py3-tf2.0\\lib\\site-packages\\pandas\\core\\common.py:576\u001b[0m, in \u001b[0;36mrequire_length_match\u001b[1;34m(data, index)\u001b[0m\n\u001b[0;32m    572\u001b[0m \u001b[39m\u001b[39m\u001b[39m\"\"\"\u001b[39;00m\n\u001b[0;32m    573\u001b[0m \u001b[39mCheck the length of data matches the length of the index.\u001b[39;00m\n\u001b[0;32m    574\u001b[0m \u001b[39m\"\"\"\u001b[39;00m\n\u001b[0;32m    575\u001b[0m \u001b[39mif\u001b[39;00m \u001b[39mlen\u001b[39m(data) \u001b[39m!=\u001b[39m \u001b[39mlen\u001b[39m(index):\n\u001b[1;32m--> 576\u001b[0m     \u001b[39mraise\u001b[39;00m \u001b[39mValueError\u001b[39;00m(\n\u001b[0;32m    577\u001b[0m         \u001b[39m\"\u001b[39m\u001b[39mLength of values \u001b[39m\u001b[39m\"\u001b[39m\n\u001b[0;32m    578\u001b[0m         \u001b[39mf\u001b[39m\u001b[39m\"\u001b[39m\u001b[39m(\u001b[39m\u001b[39m{\u001b[39;00m\u001b[39mlen\u001b[39m(data)\u001b[39m}\u001b[39;00m\u001b[39m) \u001b[39m\u001b[39m\"\u001b[39m\n\u001b[0;32m    579\u001b[0m         \u001b[39m\"\u001b[39m\u001b[39mdoes not match length of index \u001b[39m\u001b[39m\"\u001b[39m\n\u001b[0;32m    580\u001b[0m         \u001b[39mf\u001b[39m\u001b[39m\"\u001b[39m\u001b[39m(\u001b[39m\u001b[39m{\u001b[39;00m\u001b[39mlen\u001b[39m(index)\u001b[39m}\u001b[39;00m\u001b[39m)\u001b[39m\u001b[39m\"\u001b[39m\n\u001b[0;32m    581\u001b[0m     )\n",
      "\u001b[1;31mValueError\u001b[0m: Length of values (1050) does not match length of index (2250)"
     ]
    }
   ],
   "source": [
    "my_series = pd.Series(predTree)\n",
    "final_df[\"labels\"] = predTree\n",
    "\n",
    "final_df"
   ]
  },
  {
   "cell_type": "code",
   "execution_count": null,
   "metadata": {},
   "outputs": [],
   "source": [
    "final_df.to_csv(\"Final_Output_Decision Tree.csv\", index = False)"
   ]
  },
  {
   "attachments": {},
   "cell_type": "markdown",
   "metadata": {},
   "source": [
    "# XGBOOST ALGO"
   ]
  },
  {
   "cell_type": "code",
   "execution_count": null,
   "metadata": {},
   "outputs": [],
   "source": [
    "import xgboost as xgb"
   ]
  },
  {
   "cell_type": "code",
   "execution_count": null,
   "metadata": {},
   "outputs": [
    {
     "name": "stdout",
     "output_type": "stream",
     "text": [
      "Accuracy: 0.8714285714285714\n"
     ]
    }
   ],
   "source": [
    "model = xgb.XGBClassifier()\n",
    "model.fit(x_train, y_train)\n",
    "y_pred = model.predict(x_test)\n",
    "accuracy = accuracy_score(y_test, y_pred)\n",
    "print(\"Accuracy:\", accuracy)"
   ]
  },
  {
   "cell_type": "code",
   "execution_count": null,
   "metadata": {},
   "outputs": [
    {
     "name": "stdout",
     "output_type": "stream",
     "text": [
      "Accuracy: 0.8704761904761905\n"
     ]
    }
   ],
   "source": [
    "model2 = XGBClassifier(\n",
    "    objective='binary:logistic',\n",
    "    eval_metric='logloss',\n",
    "    max_depth=64,\n",
    "    learning_rate=0.1,\n",
    "    n_estimators=150\n",
    ")\n",
    "\n",
    "model2.fit(x_train, y_train)\n",
    "y_pred = model2.predict(x_test)\n",
    "accuracy = accuracy_score(y_test, y_pred)\n",
    "print(\"Accuracy:\", accuracy)"
   ]
  },
  {
   "cell_type": "code",
   "execution_count": null,
   "metadata": {},
   "outputs": [
    {
     "name": "stderr",
     "output_type": "stream",
     "text": [
      "C:\\Users\\haris\\AppData\\Local\\Temp\\ipykernel_14764\\1660317361.py:4: SettingWithCopyWarning: \n",
      "A value is trying to be set on a copy of a slice from a DataFrame.\n",
      "Try using .loc[row_indexer,col_indexer] = value instead\n",
      "\n",
      "See the caveats in the documentation: https://pandas.pydata.org/pandas-docs/stable/user_guide/indexing.html#returning-a-view-versus-a-copy\n",
      "  final_df[\"labels\"] = my_series\n"
     ]
    },
    {
     "data": {
      "text/html": [
       "<div>\n",
       "<style scoped>\n",
       "    .dataframe tbody tr th:only-of-type {\n",
       "        vertical-align: middle;\n",
       "    }\n",
       "\n",
       "    .dataframe tbody tr th {\n",
       "        vertical-align: top;\n",
       "    }\n",
       "\n",
       "    .dataframe thead th {\n",
       "        text-align: right;\n",
       "    }\n",
       "</style>\n",
       "<table border=\"1\" class=\"dataframe\">\n",
       "  <thead>\n",
       "    <tr style=\"text-align: right;\">\n",
       "      <th></th>\n",
       "      <th>id</th>\n",
       "      <th>labels</th>\n",
       "    </tr>\n",
       "  </thead>\n",
       "  <tbody>\n",
       "    <tr>\n",
       "      <th>0</th>\n",
       "      <td>1</td>\n",
       "      <td>0</td>\n",
       "    </tr>\n",
       "    <tr>\n",
       "      <th>1</th>\n",
       "      <td>2</td>\n",
       "      <td>0</td>\n",
       "    </tr>\n",
       "  </tbody>\n",
       "</table>\n",
       "</div>"
      ],
      "text/plain": [
       "   id  labels\n",
       "0   1       0\n",
       "1   2       0"
      ]
     },
     "execution_count": 143,
     "metadata": {},
     "output_type": "execute_result"
    }
   ],
   "source": [
    "answers = model.predict(test_indep)\n",
    "\n",
    "my_series = pd.Series(answers)\n",
    "final_df[\"labels\"] = my_series\n",
    "\n",
    "final_df.head(2)"
   ]
  },
  {
   "cell_type": "code",
   "execution_count": null,
   "metadata": {},
   "outputs": [],
   "source": [
    "final_df.to_csv(\"Final_Output_XGBOOST.csv\", index = False)"
   ]
  },
  {
   "cell_type": "code",
   "execution_count": null,
   "metadata": {},
   "outputs": [
    {
     "name": "stderr",
     "output_type": "stream",
     "text": [
      "C:\\Users\\haris\\AppData\\Local\\Temp\\ipykernel_14764\\3105510187.py:4: SettingWithCopyWarning: \n",
      "A value is trying to be set on a copy of a slice from a DataFrame.\n",
      "Try using .loc[row_indexer,col_indexer] = value instead\n",
      "\n",
      "See the caveats in the documentation: https://pandas.pydata.org/pandas-docs/stable/user_guide/indexing.html#returning-a-view-versus-a-copy\n",
      "  final_df[\"labels\"] = my_series\n"
     ]
    }
   ],
   "source": [
    "answers = model2.predict(test_indep)\n",
    "\n",
    "my_series = pd.Series(answers)\n",
    "final_df[\"labels\"] = my_series"
   ]
  },
  {
   "cell_type": "code",
   "execution_count": null,
   "metadata": {},
   "outputs": [],
   "source": [
    "final_df.to_csv(\"Final_Output_XGBOOST_Tuned.csv\", index = False)"
   ]
  },
  {
   "attachments": {},
   "cell_type": "markdown",
   "metadata": {},
   "source": [
    "# LOGISTIC REGRESSION"
   ]
  },
  {
   "cell_type": "code",
   "execution_count": 43,
   "metadata": {},
   "outputs": [
    {
     "data": {
      "text/html": [
       "<style>#sk-container-id-4 {color: black;background-color: white;}#sk-container-id-4 pre{padding: 0;}#sk-container-id-4 div.sk-toggleable {background-color: white;}#sk-container-id-4 label.sk-toggleable__label {cursor: pointer;display: block;width: 100%;margin-bottom: 0;padding: 0.3em;box-sizing: border-box;text-align: center;}#sk-container-id-4 label.sk-toggleable__label-arrow:before {content: \"▸\";float: left;margin-right: 0.25em;color: #696969;}#sk-container-id-4 label.sk-toggleable__label-arrow:hover:before {color: black;}#sk-container-id-4 div.sk-estimator:hover label.sk-toggleable__label-arrow:before {color: black;}#sk-container-id-4 div.sk-toggleable__content {max-height: 0;max-width: 0;overflow: hidden;text-align: left;background-color: #f0f8ff;}#sk-container-id-4 div.sk-toggleable__content pre {margin: 0.2em;color: black;border-radius: 0.25em;background-color: #f0f8ff;}#sk-container-id-4 input.sk-toggleable__control:checked~div.sk-toggleable__content {max-height: 200px;max-width: 100%;overflow: auto;}#sk-container-id-4 input.sk-toggleable__control:checked~label.sk-toggleable__label-arrow:before {content: \"▾\";}#sk-container-id-4 div.sk-estimator input.sk-toggleable__control:checked~label.sk-toggleable__label {background-color: #d4ebff;}#sk-container-id-4 div.sk-label input.sk-toggleable__control:checked~label.sk-toggleable__label {background-color: #d4ebff;}#sk-container-id-4 input.sk-hidden--visually {border: 0;clip: rect(1px 1px 1px 1px);clip: rect(1px, 1px, 1px, 1px);height: 1px;margin: -1px;overflow: hidden;padding: 0;position: absolute;width: 1px;}#sk-container-id-4 div.sk-estimator {font-family: monospace;background-color: #f0f8ff;border: 1px dotted black;border-radius: 0.25em;box-sizing: border-box;margin-bottom: 0.5em;}#sk-container-id-4 div.sk-estimator:hover {background-color: #d4ebff;}#sk-container-id-4 div.sk-parallel-item::after {content: \"\";width: 100%;border-bottom: 1px solid gray;flex-grow: 1;}#sk-container-id-4 div.sk-label:hover label.sk-toggleable__label {background-color: #d4ebff;}#sk-container-id-4 div.sk-serial::before {content: \"\";position: absolute;border-left: 1px solid gray;box-sizing: border-box;top: 0;bottom: 0;left: 50%;z-index: 0;}#sk-container-id-4 div.sk-serial {display: flex;flex-direction: column;align-items: center;background-color: white;padding-right: 0.2em;padding-left: 0.2em;position: relative;}#sk-container-id-4 div.sk-item {position: relative;z-index: 1;}#sk-container-id-4 div.sk-parallel {display: flex;align-items: stretch;justify-content: center;background-color: white;position: relative;}#sk-container-id-4 div.sk-item::before, #sk-container-id-4 div.sk-parallel-item::before {content: \"\";position: absolute;border-left: 1px solid gray;box-sizing: border-box;top: 0;bottom: 0;left: 50%;z-index: -1;}#sk-container-id-4 div.sk-parallel-item {display: flex;flex-direction: column;z-index: 1;position: relative;background-color: white;}#sk-container-id-4 div.sk-parallel-item:first-child::after {align-self: flex-end;width: 50%;}#sk-container-id-4 div.sk-parallel-item:last-child::after {align-self: flex-start;width: 50%;}#sk-container-id-4 div.sk-parallel-item:only-child::after {width: 0;}#sk-container-id-4 div.sk-dashed-wrapped {border: 1px dashed gray;margin: 0 0.4em 0.5em 0.4em;box-sizing: border-box;padding-bottom: 0.4em;background-color: white;}#sk-container-id-4 div.sk-label label {font-family: monospace;font-weight: bold;display: inline-block;line-height: 1.2em;}#sk-container-id-4 div.sk-label-container {text-align: center;}#sk-container-id-4 div.sk-container {/* jupyter's `normalize.less` sets `[hidden] { display: none; }` but bootstrap.min.css set `[hidden] { display: none !important; }` so we also need the `!important` here to be able to override the default hidden behavior on the sphinx rendered scikit-learn.org. See: https://github.com/scikit-learn/scikit-learn/issues/21755 */display: inline-block !important;position: relative;}#sk-container-id-4 div.sk-text-repr-fallback {display: none;}</style><div id=\"sk-container-id-4\" class=\"sk-top-container\"><div class=\"sk-text-repr-fallback\"><pre>LogisticRegression()</pre><b>In a Jupyter environment, please rerun this cell to show the HTML representation or trust the notebook. <br />On GitHub, the HTML representation is unable to render, please try loading this page with nbviewer.org.</b></div><div class=\"sk-container\" hidden><div class=\"sk-item\"><div class=\"sk-estimator sk-toggleable\"><input class=\"sk-toggleable__control sk-hidden--visually\" id=\"sk-estimator-id-4\" type=\"checkbox\" checked><label for=\"sk-estimator-id-4\" class=\"sk-toggleable__label sk-toggleable__label-arrow\">LogisticRegression</label><div class=\"sk-toggleable__content\"><pre>LogisticRegression()</pre></div></div></div></div></div>"
      ],
      "text/plain": [
       "LogisticRegression()"
      ]
     },
     "execution_count": 43,
     "metadata": {},
     "output_type": "execute_result"
    }
   ],
   "source": [
    "from sklearn.linear_model import LogisticRegression\n",
    "from sklearn.metrics import confusion_matrix\n",
    "LR = LogisticRegression().fit(x_train, y_train)\n",
    "LR"
   ]
  },
  {
   "cell_type": "code",
   "execution_count": 44,
   "metadata": {},
   "outputs": [
    {
     "data": {
      "text/plain": [
       "array([0, 0, 1, ..., 0, 0, 0], dtype=int64)"
      ]
     },
     "execution_count": 44,
     "metadata": {},
     "output_type": "execute_result"
    }
   ],
   "source": [
    "yhat = LR.predict(x_test)\n",
    "yhat"
   ]
  },
  {
   "cell_type": "code",
   "execution_count": 45,
   "metadata": {},
   "outputs": [
    {
     "data": {
      "text/plain": [
       "array([[9.99999753e-01, 2.47213980e-07],\n",
       "       [1.00000000e+00, 9.10799527e-18],\n",
       "       [4.75175455e-14, 1.00000000e+00],\n",
       "       ...,\n",
       "       [1.00000000e+00, 1.99971763e-13],\n",
       "       [1.00000000e+00, 4.67538165e-33],\n",
       "       [9.99995288e-01, 4.71240463e-06]])"
      ]
     },
     "execution_count": 45,
     "metadata": {},
     "output_type": "execute_result"
    }
   ],
   "source": [
    "yhat_prob = LR.predict_proba(x_test)\n",
    "yhat_prob"
   ]
  },
  {
   "cell_type": "code",
   "execution_count": 46,
   "metadata": {},
   "outputs": [
    {
     "data": {
      "text/plain": [
       "0.7923809523809524"
      ]
     },
     "execution_count": 46,
     "metadata": {},
     "output_type": "execute_result"
    }
   ],
   "source": [
    "LR.score(x_test, y_test)"
   ]
  },
  {
   "cell_type": "code",
   "execution_count": 41,
   "metadata": {},
   "outputs": [
    {
     "data": {
      "text/html": [
       "<div>\n",
       "<style scoped>\n",
       "    .dataframe tbody tr th:only-of-type {\n",
       "        vertical-align: middle;\n",
       "    }\n",
       "\n",
       "    .dataframe tbody tr th {\n",
       "        vertical-align: top;\n",
       "    }\n",
       "\n",
       "    .dataframe thead th {\n",
       "        text-align: right;\n",
       "    }\n",
       "</style>\n",
       "<table border=\"1\" class=\"dataframe\">\n",
       "  <thead>\n",
       "    <tr style=\"text-align: right;\">\n",
       "      <th></th>\n",
       "      <th>id</th>\n",
       "      <th>labels</th>\n",
       "    </tr>\n",
       "  </thead>\n",
       "  <tbody>\n",
       "    <tr>\n",
       "      <th>0</th>\n",
       "      <td>1</td>\n",
       "      <td>1</td>\n",
       "    </tr>\n",
       "    <tr>\n",
       "      <th>1</th>\n",
       "      <td>2</td>\n",
       "      <td>0</td>\n",
       "    </tr>\n",
       "    <tr>\n",
       "      <th>2</th>\n",
       "      <td>3</td>\n",
       "      <td>0</td>\n",
       "    </tr>\n",
       "    <tr>\n",
       "      <th>3</th>\n",
       "      <td>4</td>\n",
       "      <td>0</td>\n",
       "    </tr>\n",
       "    <tr>\n",
       "      <th>4</th>\n",
       "      <td>5</td>\n",
       "      <td>0</td>\n",
       "    </tr>\n",
       "    <tr>\n",
       "      <th>...</th>\n",
       "      <td>...</td>\n",
       "      <td>...</td>\n",
       "    </tr>\n",
       "    <tr>\n",
       "      <th>2245</th>\n",
       "      <td>2246</td>\n",
       "      <td>0</td>\n",
       "    </tr>\n",
       "    <tr>\n",
       "      <th>2246</th>\n",
       "      <td>2247</td>\n",
       "      <td>0</td>\n",
       "    </tr>\n",
       "    <tr>\n",
       "      <th>2247</th>\n",
       "      <td>2248</td>\n",
       "      <td>1</td>\n",
       "    </tr>\n",
       "    <tr>\n",
       "      <th>2248</th>\n",
       "      <td>2249</td>\n",
       "      <td>0</td>\n",
       "    </tr>\n",
       "    <tr>\n",
       "      <th>2249</th>\n",
       "      <td>2250</td>\n",
       "      <td>1</td>\n",
       "    </tr>\n",
       "  </tbody>\n",
       "</table>\n",
       "<p>2250 rows × 2 columns</p>\n",
       "</div>"
      ],
      "text/plain": [
       "        id  labels\n",
       "0        1       1\n",
       "1        2       0\n",
       "2        3       0\n",
       "3        4       0\n",
       "4        5       0\n",
       "...    ...     ...\n",
       "2245  2246       0\n",
       "2246  2247       0\n",
       "2247  2248       1\n",
       "2248  2249       0\n",
       "2249  2250       1\n",
       "\n",
       "[2250 rows x 2 columns]"
      ]
     },
     "execution_count": 41,
     "metadata": {},
     "output_type": "execute_result"
    }
   ],
   "source": [
    "yhat = LR.predict(test_indep)\n",
    "my_series = pd.Series(yhat)\n",
    "final_df[\"labels\"] = yhat\n",
    "\n",
    "final_df"
   ]
  },
  {
   "cell_type": "code",
   "execution_count": 42,
   "metadata": {},
   "outputs": [],
   "source": [
    "final_df.to_csv(\"Final_Output_LogiReg.csv\", index = False)"
   ]
  },
  {
   "cell_type": "code",
   "execution_count": null,
   "metadata": {},
   "outputs": [],
   "source": [
    "#End"
   ]
  },
  {
   "cell_type": "code",
   "execution_count": null,
   "metadata": {},
   "outputs": [],
   "source": []
  }
 ],
 "metadata": {
  "kernelspec": {
   "display_name": "Python 3",
   "language": "python",
   "name": "python3"
  },
  "language_info": {
   "codemirror_mode": {
    "name": "ipython",
    "version": 3
   },
   "file_extension": ".py",
   "mimetype": "text/x-python",
   "name": "python",
   "nbconvert_exporter": "python",
   "pygments_lexer": "ipython3",
   "version": "3.9.16"
  },
  "orig_nbformat": 4
 },
 "nbformat": 4,
 "nbformat_minor": 2
}
